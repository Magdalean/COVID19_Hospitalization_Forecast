{
  "nbformat": 4,
  "nbformat_minor": 0,
  "metadata": {
    "language_info": {
      "codemirror_mode": {
        "name": "ipython",
        "version": 3
      },
      "file_extension": ".py",
      "mimetype": "text/x-python",
      "name": "python",
      "nbconvert_exporter": "python",
      "pygments_lexer": "ipython3",
      "version": "3.8.3-final"
    },
    "orig_nbformat": 2,
    "kernelspec": {
      "name": "Python 3.8.3 64-bit",
      "display_name": "Python 3.8.3 64-bit",
      "metadata": {
        "interpreter": {
          "hash": "8306fcba275c60fce5dfd6fb8357fc70adca5f61649644bfa153a6bd6514ea20"
        }
      }
    },
    "colab": {
      "name": "COVID19_Hospitalization_Prediction.ipynb",
      "provenance": [],
      "collapsed_sections": [
        "NKaWITgVCyq8"
      ]
    },
    "accelerator": "GPU"
  },
  "cells": [
    {
      "cell_type": "code",
      "metadata": {
        "id": "TcOwyhbpDOqy",
        "colab": {
          "base_uri": "https://localhost:8080/"
        },
        "outputId": "d2045687-0497-4f41-ec09-b78cec55c51b"
      },
      "source": [
        "# locate the folder with the data and functions\r\n",
        "cd /content/drive/My Drive/MENG_AI/CP8305-KnowledgeDiscovery/Project/"
      ],
      "execution_count": null,
      "outputs": [
        {
          "output_type": "stream",
          "text": [
            "/content/drive/My Drive/MENG_AI/CP8305-KnowledgeDiscovery/Project\n"
          ],
          "name": "stdout"
        }
      ]
    },
    {
      "cell_type": "markdown",
      "metadata": {
        "id": "8Ht1_gpJCyqZ"
      },
      "source": [
        "# COVID-19 PREDICTION"
      ]
    },
    {
      "cell_type": "markdown",
      "metadata": {
        "id": "QT8JXLNYCyqa"
      },
      "source": [
        "### Import Libraries"
      ]
    },
    {
      "cell_type": "code",
      "metadata": {
        "id": "yHZnvLjJCyqb"
      },
      "source": [
        "import pandas as pd\n",
        "import numpy as np\n",
        "from numpy import *\n",
        "\n",
        "\n",
        "import tensorflow as tf\n",
        "from sklearn import preprocessing\n",
        "\n",
        "# Linear Regression/MLP functions \n",
        "\n",
        "from sklearn import datasets, linear_model\n",
        "from sklearn.metrics import mean_squared_error, r2_score, roc_auc_score, accuracy_score\n",
        "from sklearn.preprocessing import StandardScaler\n",
        "from sklearn.model_selection import train_test_split\n",
        "from math import sqrt\n",
        "\n",
        "from tensorflow.keras.layers import Input, Dense, Activation,Dropout\n",
        "from tensorflow.keras.models import Model\n",
        "import seaborn as sns\n",
        "# Custom functions\n",
        "\n",
        "from covid_funct import *"
      ],
      "execution_count": null,
      "outputs": []
    },
    {
      "cell_type": "code",
      "metadata": {
        "id": "vjgt5I4bOgsZ"
      },
      "source": [
        "import re\n",
        "\n",
        "from matplotlib import pyplot as plt\n",
        "\n",
        "from tensorflow.keras import layers\n",
        "from tensorflow.keras.layers.experimental import preprocessing\n",
        "import os\n",
        "\n",
        "\n",
        "from sklearn.metrics import mean_squared_error, mean_absolute_error\n",
        "\n",
        "from sklearn.preprocessing import MinMaxScaler, StandardScaler\n",
        "from tensorflow.keras.models import Sequential\n",
        "from tensorflow.keras.layers import Dense, Conv2D, Dropout, BatchNormalization, MaxPooling2D, Flatten, Activation, LSTM\n",
        "from tensorflow.python.keras.optimizer_v2 import rmsprop\n",
        "from keras.optimizers import Adam\n",
        "from keras.regularizers import l2\n",
        "import keras\n",
        "from keras.layers import RepeatVector\n",
        "from keras.layers import TimeDistributed\n",
        "\n",
        "import statistics \n",
        "\n"
      ],
      "execution_count": null,
      "outputs": []
    },
    {
      "cell_type": "markdown",
      "metadata": {
        "id": "lZ4nwKuSCyqg"
      },
      "source": [
        "### Read in full excel dataset"
      ]
    },
    {
      "cell_type": "code",
      "metadata": {
        "id": "675ODJKDCyqh",
        "colab": {
          "base_uri": "https://localhost:8080/"
        },
        "outputId": "1e661342-ece3-4acc-e2ea-3178d3369a5e"
      },
      "source": [
        "data_OG = pd.read_csv(\"2Provincial_Daily_Totals.csv\")\n",
        "data_OG.shape"
      ],
      "execution_count": null,
      "outputs": [
        {
          "output_type": "execute_result",
          "data": {
            "text/plain": [
              "(4695, 18)"
            ]
          },
          "metadata": {
            "tags": []
          },
          "execution_count": 458
        }
      ]
    },
    {
      "cell_type": "markdown",
      "metadata": {
        "id": "b_C0OPAiCyqm"
      },
      "source": [
        "### Data Preparation"
      ]
    },
    {
      "cell_type": "code",
      "metadata": {
        "id": "AuOgbtOzCyqn"
      },
      "source": [
        "# set the date as the index\n",
        "data_OG['SummaryDate']=pd.to_datetime(data_OG['SummaryDate']).dt.date\n",
        "data_OG = data_OG.set_index('SummaryDate')\n",
        "data_OG = data_OG.fillna(0)"
      ],
      "execution_count": null,
      "outputs": []
    },
    {
      "cell_type": "code",
      "metadata": {
        "id": "-n5yRQYrCyqq"
      },
      "source": [
        "# Remove zero variance columns \n",
        "def drop_constant_columns(dataframe):\n",
        "    \"\"\"\n",
        "    Drops constant value columns of pandas dataframe.\n",
        "    \"\"\"\n",
        "    keep_columns = [col for col in dataframe.columns if len(dataframe[col].unique()) > 1]\n",
        "    return dataframe[keep_columns].copy()"
      ],
      "execution_count": null,
      "outputs": []
    },
    {
      "cell_type": "code",
      "metadata": {
        "id": "AlWcLAmrCyqx",
        "colab": {
          "base_uri": "https://localhost:8080/",
          "height": 264
        },
        "outputId": "27b64ede-cde7-4845-d4dc-4e09baa4f0f2"
      },
      "source": [
        "# delete redundant columns\n",
        "del data_OG['OBJECTID']\n",
        "del data_OG['Abbreviation']\n",
        "data_OG.head()"
      ],
      "execution_count": null,
      "outputs": [
        {
          "output_type": "execute_result",
          "data": {
            "text/html": [
              "<div>\n",
              "<style scoped>\n",
              "    .dataframe tbody tr th:only-of-type {\n",
              "        vertical-align: middle;\n",
              "    }\n",
              "\n",
              "    .dataframe tbody tr th {\n",
              "        vertical-align: top;\n",
              "    }\n",
              "\n",
              "    .dataframe thead th {\n",
              "        text-align: right;\n",
              "    }\n",
              "</style>\n",
              "<table border=\"1\" class=\"dataframe\">\n",
              "  <thead>\n",
              "    <tr style=\"text-align: right;\">\n",
              "      <th></th>\n",
              "      <th>Province</th>\n",
              "      <th>DailyTotals</th>\n",
              "      <th>...</th>\n",
              "      <th>TotalICU</th>\n",
              "      <th>DailyICU</th>\n",
              "    </tr>\n",
              "    <tr>\n",
              "      <th>SummaryDate</th>\n",
              "      <th></th>\n",
              "      <th></th>\n",
              "      <th></th>\n",
              "      <th></th>\n",
              "      <th></th>\n",
              "    </tr>\n",
              "  </thead>\n",
              "  <tbody>\n",
              "    <tr>\n",
              "      <th>2020-01-25</th>\n",
              "      <td>ALBERTA</td>\n",
              "      <td>0</td>\n",
              "      <td>...</td>\n",
              "      <td>0.0</td>\n",
              "      <td>0.0</td>\n",
              "    </tr>\n",
              "    <tr>\n",
              "      <th>2020-01-25</th>\n",
              "      <td>NWT</td>\n",
              "      <td>0</td>\n",
              "      <td>...</td>\n",
              "      <td>0.0</td>\n",
              "      <td>0.0</td>\n",
              "    </tr>\n",
              "    <tr>\n",
              "      <th>2020-01-25</th>\n",
              "      <td>YUKON</td>\n",
              "      <td>0</td>\n",
              "      <td>...</td>\n",
              "      <td>0.0</td>\n",
              "      <td>0.0</td>\n",
              "    </tr>\n",
              "    <tr>\n",
              "      <th>2020-01-25</th>\n",
              "      <td>SASKATCHEWAN</td>\n",
              "      <td>0</td>\n",
              "      <td>...</td>\n",
              "      <td>0.0</td>\n",
              "      <td>0.0</td>\n",
              "    </tr>\n",
              "    <tr>\n",
              "      <th>2020-01-25</th>\n",
              "      <td>PEI</td>\n",
              "      <td>0</td>\n",
              "      <td>...</td>\n",
              "      <td>0.0</td>\n",
              "      <td>0.0</td>\n",
              "    </tr>\n",
              "  </tbody>\n",
              "</table>\n",
              "<p>5 rows × 15 columns</p>\n",
              "</div>"
            ],
            "text/plain": [
              "                 Province  DailyTotals  ...  TotalICU  DailyICU\n",
              "SummaryDate                             ...                    \n",
              "2020-01-25        ALBERTA            0  ...       0.0       0.0\n",
              "2020-01-25            NWT            0  ...       0.0       0.0\n",
              "2020-01-25          YUKON            0  ...       0.0       0.0\n",
              "2020-01-25   SASKATCHEWAN            0  ...       0.0       0.0\n",
              "2020-01-25            PEI            0  ...       0.0       0.0\n",
              "\n",
              "[5 rows x 15 columns]"
            ]
          },
          "metadata": {
            "tags": []
          },
          "execution_count": 461
        }
      ]
    },
    {
      "cell_type": "code",
      "metadata": {
        "colab": {
          "base_uri": "https://localhost:8080/",
          "height": 574
        },
        "id": "um11Pcf858fU",
        "outputId": "ea7668d3-710c-422e-d09a-66a77329e2ef"
      },
      "source": [
        "# data pertaining to one day -- For report\n",
        "data_OG.iloc[4215:4230]"
      ],
      "execution_count": null,
      "outputs": [
        {
          "output_type": "execute_result",
          "data": {
            "text/html": [
              "<div>\n",
              "<style scoped>\n",
              "    .dataframe tbody tr th:only-of-type {\n",
              "        vertical-align: middle;\n",
              "    }\n",
              "\n",
              "    .dataframe tbody tr th {\n",
              "        vertical-align: top;\n",
              "    }\n",
              "\n",
              "    .dataframe thead th {\n",
              "        text-align: right;\n",
              "    }\n",
              "</style>\n",
              "<table border=\"1\" class=\"dataframe\">\n",
              "  <thead>\n",
              "    <tr style=\"text-align: right;\">\n",
              "      <th></th>\n",
              "      <th>Province</th>\n",
              "      <th>DailyTotals</th>\n",
              "      <th>...</th>\n",
              "      <th>TotalICU</th>\n",
              "      <th>DailyICU</th>\n",
              "    </tr>\n",
              "    <tr>\n",
              "      <th>SummaryDate</th>\n",
              "      <th></th>\n",
              "      <th></th>\n",
              "      <th></th>\n",
              "      <th></th>\n",
              "      <th></th>\n",
              "    </tr>\n",
              "  </thead>\n",
              "  <tbody>\n",
              "    <tr>\n",
              "      <th>2020-11-01</th>\n",
              "      <td>NUNAVUT</td>\n",
              "      <td>0</td>\n",
              "      <td>...</td>\n",
              "      <td>0.0</td>\n",
              "      <td>0.0</td>\n",
              "    </tr>\n",
              "    <tr>\n",
              "      <th>2020-11-01</th>\n",
              "      <td>YUKON</td>\n",
              "      <td>0</td>\n",
              "      <td>...</td>\n",
              "      <td>0.0</td>\n",
              "      <td>0.0</td>\n",
              "    </tr>\n",
              "    <tr>\n",
              "      <th>2020-11-01</th>\n",
              "      <td>PRINCE EDWARD ISLAND</td>\n",
              "      <td>0</td>\n",
              "      <td>...</td>\n",
              "      <td>0.0</td>\n",
              "      <td>0.0</td>\n",
              "    </tr>\n",
              "    <tr>\n",
              "      <th>2020-11-01</th>\n",
              "      <td>NEWFOUNDLAND AND LABRADOR</td>\n",
              "      <td>0</td>\n",
              "      <td>...</td>\n",
              "      <td>0.0</td>\n",
              "      <td>0.0</td>\n",
              "    </tr>\n",
              "    <tr>\n",
              "      <th>2020-11-01</th>\n",
              "      <td>NEW BRUNSWICK</td>\n",
              "      <td>1</td>\n",
              "      <td>...</td>\n",
              "      <td>1.0</td>\n",
              "      <td>1.0</td>\n",
              "    </tr>\n",
              "    <tr>\n",
              "      <th>2020-11-01</th>\n",
              "      <td>BRITISH COLUMBIA</td>\n",
              "      <td>0</td>\n",
              "      <td>...</td>\n",
              "      <td>25.0</td>\n",
              "      <td>0.0</td>\n",
              "    </tr>\n",
              "    <tr>\n",
              "      <th>2020-11-01</th>\n",
              "      <td>NOVA SCOTIA</td>\n",
              "      <td>2</td>\n",
              "      <td>...</td>\n",
              "      <td>0.0</td>\n",
              "      <td>0.0</td>\n",
              "    </tr>\n",
              "    <tr>\n",
              "      <th>2020-11-01</th>\n",
              "      <td>SASKATCHEWAN</td>\n",
              "      <td>74</td>\n",
              "      <td>...</td>\n",
              "      <td>7.0</td>\n",
              "      <td>1.0</td>\n",
              "    </tr>\n",
              "    <tr>\n",
              "      <th>2020-11-01</th>\n",
              "      <td>ALBERTA</td>\n",
              "      <td>0</td>\n",
              "      <td>...</td>\n",
              "      <td>25.0</td>\n",
              "      <td>0.0</td>\n",
              "    </tr>\n",
              "    <tr>\n",
              "      <th>2020-11-01</th>\n",
              "      <td>MANITOBA</td>\n",
              "      <td>311</td>\n",
              "      <td>...</td>\n",
              "      <td>18.0</td>\n",
              "      <td>-1.0</td>\n",
              "    </tr>\n",
              "    <tr>\n",
              "      <th>2020-11-01</th>\n",
              "      <td>QUEBEC</td>\n",
              "      <td>965</td>\n",
              "      <td>...</td>\n",
              "      <td>84.0</td>\n",
              "      <td>2.0</td>\n",
              "    </tr>\n",
              "    <tr>\n",
              "      <th>2020-11-01</th>\n",
              "      <td>ONTARIO</td>\n",
              "      <td>977</td>\n",
              "      <td>...</td>\n",
              "      <td>72.0</td>\n",
              "      <td>-1.0</td>\n",
              "    </tr>\n",
              "    <tr>\n",
              "      <th>2020-11-01</th>\n",
              "      <td>NORTHWEST TERRITORIES</td>\n",
              "      <td>0</td>\n",
              "      <td>...</td>\n",
              "      <td>0.0</td>\n",
              "      <td>0.0</td>\n",
              "    </tr>\n",
              "    <tr>\n",
              "      <th>2020-11-01</th>\n",
              "      <td>REPATRIATED CDN</td>\n",
              "      <td>0</td>\n",
              "      <td>...</td>\n",
              "      <td>0.0</td>\n",
              "      <td>0.0</td>\n",
              "    </tr>\n",
              "    <tr>\n",
              "      <th>2020-11-01</th>\n",
              "      <td>CANADA</td>\n",
              "      <td>2330</td>\n",
              "      <td>...</td>\n",
              "      <td>232.0</td>\n",
              "      <td>2.0</td>\n",
              "    </tr>\n",
              "  </tbody>\n",
              "</table>\n",
              "<p>15 rows × 15 columns</p>\n",
              "</div>"
            ],
            "text/plain": [
              "                              Province  DailyTotals  ...  TotalICU  DailyICU\n",
              "SummaryDate                                          ...                    \n",
              "2020-11-01                     NUNAVUT            0  ...       0.0       0.0\n",
              "2020-11-01                       YUKON            0  ...       0.0       0.0\n",
              "2020-11-01        PRINCE EDWARD ISLAND            0  ...       0.0       0.0\n",
              "2020-11-01   NEWFOUNDLAND AND LABRADOR            0  ...       0.0       0.0\n",
              "2020-11-01               NEW BRUNSWICK            1  ...       1.0       1.0\n",
              "2020-11-01            BRITISH COLUMBIA            0  ...      25.0       0.0\n",
              "2020-11-01                 NOVA SCOTIA            2  ...       0.0       0.0\n",
              "2020-11-01                SASKATCHEWAN           74  ...       7.0       1.0\n",
              "2020-11-01                     ALBERTA            0  ...      25.0       0.0\n",
              "2020-11-01                    MANITOBA          311  ...      18.0      -1.0\n",
              "2020-11-01                      QUEBEC          965  ...      84.0       2.0\n",
              "2020-11-01                     ONTARIO          977  ...      72.0      -1.0\n",
              "2020-11-01       NORTHWEST TERRITORIES            0  ...       0.0       0.0\n",
              "2020-11-01             REPATRIATED CDN            0  ...       0.0       0.0\n",
              "2020-11-01                      CANADA         2330  ...     232.0       2.0\n",
              "\n",
              "[15 rows x 15 columns]"
            ]
          },
          "metadata": {
            "tags": []
          },
          "execution_count": 462
        }
      ]
    },
    {
      "cell_type": "code",
      "metadata": {
        "id": "fBKSArZ6Ur4g"
      },
      "source": [
        "def pivot_dataframe(df, cols, vals):\n",
        "  \n",
        "  transpose_df = df.pivot(columns= cols, values=vals)\n",
        "  transpose_df = transpose_df.fillna(0)\n",
        "  transpose_df['BC'] =transpose_df['BC'] + transpose_df['BRITISH COLUMBIA'] \n",
        "  del transpose_df['BRITISH COLUMBIA']\n",
        "  transpose_df['NL'] =transpose_df['NL'] + transpose_df['NEWFOUNDLAND AND LABRADOR'] \n",
        "  del transpose_df['NEWFOUNDLAND AND LABRADOR']\n",
        "  transpose_df['NWT'] =transpose_df['NWT'] + transpose_df['NORTHWEST TERRITORIES'] \n",
        "  del transpose_df['NORTHWEST TERRITORIES']\n",
        "  transpose_df['PEI'] =transpose_df['PEI'] + transpose_df['PRINCE EDWARD ISLAND'] \n",
        "  del transpose_df['PRINCE EDWARD ISLAND']\n",
        "  transpose_df = transpose_df.add_suffix('_')\n",
        "  transpose_df = transpose_df.add_suffix(vals)\n",
        "\n",
        "  return transpose_df"
      ],
      "execution_count": null,
      "outputs": []
    },
    {
      "cell_type": "code",
      "metadata": {
        "colab": {
          "base_uri": "https://localhost:8080/",
          "height": 264
        },
        "id": "Xl8jDNeEXECN",
        "outputId": "d1c1abf8-b5a6-40a1-8be4-c023a0e84075"
      },
      "source": [
        "# Pivot for timeseries representation\n",
        "\n",
        "df1 = pivot_dataframe(data_OG, 'Province', 'DailyTotals')\n",
        "df2 = pivot_dataframe(data_OG, 'Province', 'TotalCases')\n",
        "df3 = pivot_dataframe(data_OG, 'Province', 'TotalRecovered')\n",
        "df4 = pivot_dataframe(data_OG, 'Province', 'DailyRecovered')\n",
        "df5 = pivot_dataframe(data_OG, 'Province', 'TotalDeaths')\n",
        "df6 = pivot_dataframe(data_OG, 'Province', 'DailyDeaths')\n",
        "df7 = pivot_dataframe(data_OG, 'Province', 'TotalTested')\n",
        "df8 = pivot_dataframe(data_OG, 'Province', 'DailyTested')\n",
        "df9 = pivot_dataframe(data_OG, 'Province', 'DailyActive')\n",
        "df10 = pivot_dataframe(data_OG, 'Province', 'TotalHospitalized')\n",
        "df11 = pivot_dataframe(data_OG, 'Province', 'DailyHospitalized')\n",
        "df12 = pivot_dataframe(data_OG, 'Province', 'TotalICU')\n",
        "df13 = pivot_dataframe(data_OG, 'Province', 'DailyICU')\n",
        "\n",
        "data_transpose = pd.concat([df1, df2, df3, df4, df5, df6, df7, df8, df9, df10, df11, df12, df13], axis=1, sort=False)\n",
        "data_transpose.head()\n"
      ],
      "execution_count": null,
      "outputs": [
        {
          "output_type": "execute_result",
          "data": {
            "text/html": [
              "<div>\n",
              "<style scoped>\n",
              "    .dataframe tbody tr th:only-of-type {\n",
              "        vertical-align: middle;\n",
              "    }\n",
              "\n",
              "    .dataframe tbody tr th {\n",
              "        vertical-align: top;\n",
              "    }\n",
              "\n",
              "    .dataframe thead th {\n",
              "        text-align: right;\n",
              "    }\n",
              "</style>\n",
              "<table border=\"1\" class=\"dataframe\">\n",
              "  <thead>\n",
              "    <tr style=\"text-align: right;\">\n",
              "      <th>Province</th>\n",
              "      <th>ALBERTA_DailyTotals</th>\n",
              "      <th>BC_DailyTotals</th>\n",
              "      <th>...</th>\n",
              "      <th>SASKATCHEWAN_DailyICU</th>\n",
              "      <th>YUKON_DailyICU</th>\n",
              "    </tr>\n",
              "    <tr>\n",
              "      <th>SummaryDate</th>\n",
              "      <th></th>\n",
              "      <th></th>\n",
              "      <th></th>\n",
              "      <th></th>\n",
              "      <th></th>\n",
              "    </tr>\n",
              "  </thead>\n",
              "  <tbody>\n",
              "    <tr>\n",
              "      <th>2020-01-25</th>\n",
              "      <td>0.0</td>\n",
              "      <td>0.0</td>\n",
              "      <td>...</td>\n",
              "      <td>0.0</td>\n",
              "      <td>0.0</td>\n",
              "    </tr>\n",
              "    <tr>\n",
              "      <th>2020-01-26</th>\n",
              "      <td>0.0</td>\n",
              "      <td>0.0</td>\n",
              "      <td>...</td>\n",
              "      <td>0.0</td>\n",
              "      <td>0.0</td>\n",
              "    </tr>\n",
              "    <tr>\n",
              "      <th>2020-01-27</th>\n",
              "      <td>0.0</td>\n",
              "      <td>0.0</td>\n",
              "      <td>...</td>\n",
              "      <td>0.0</td>\n",
              "      <td>0.0</td>\n",
              "    </tr>\n",
              "    <tr>\n",
              "      <th>2020-01-28</th>\n",
              "      <td>0.0</td>\n",
              "      <td>1.0</td>\n",
              "      <td>...</td>\n",
              "      <td>0.0</td>\n",
              "      <td>0.0</td>\n",
              "    </tr>\n",
              "    <tr>\n",
              "      <th>2020-01-29</th>\n",
              "      <td>0.0</td>\n",
              "      <td>0.0</td>\n",
              "      <td>...</td>\n",
              "      <td>0.0</td>\n",
              "      <td>0.0</td>\n",
              "    </tr>\n",
              "  </tbody>\n",
              "</table>\n",
              "<p>5 rows × 208 columns</p>\n",
              "</div>"
            ],
            "text/plain": [
              "Province     ALBERTA_DailyTotals  BC_DailyTotals  ...  SASKATCHEWAN_DailyICU  \\\n",
              "SummaryDate                                       ...                          \n",
              "2020-01-25                   0.0             0.0  ...                    0.0   \n",
              "2020-01-26                   0.0             0.0  ...                    0.0   \n",
              "2020-01-27                   0.0             0.0  ...                    0.0   \n",
              "2020-01-28                   0.0             1.0  ...                    0.0   \n",
              "2020-01-29                   0.0             0.0  ...                    0.0   \n",
              "\n",
              "Province     YUKON_DailyICU  \n",
              "SummaryDate                  \n",
              "2020-01-25              0.0  \n",
              "2020-01-26              0.0  \n",
              "2020-01-27              0.0  \n",
              "2020-01-28              0.0  \n",
              "2020-01-29              0.0  \n",
              "\n",
              "[5 rows x 208 columns]"
            ]
          },
          "metadata": {
            "tags": []
          },
          "execution_count": 464
        }
      ]
    },
    {
      "cell_type": "code",
      "metadata": {
        "colab": {
          "base_uri": "https://localhost:8080/",
          "height": 450
        },
        "id": "G5OHG_3UHnBW",
        "outputId": "834b40de-f2f4-41cb-ce3e-23457423593a"
      },
      "source": [
        "pd.set_option(\"display.max_columns\", 5)\n",
        "data_transpose"
      ],
      "execution_count": null,
      "outputs": [
        {
          "output_type": "execute_result",
          "data": {
            "text/html": [
              "<div>\n",
              "<style scoped>\n",
              "    .dataframe tbody tr th:only-of-type {\n",
              "        vertical-align: middle;\n",
              "    }\n",
              "\n",
              "    .dataframe tbody tr th {\n",
              "        vertical-align: top;\n",
              "    }\n",
              "\n",
              "    .dataframe thead th {\n",
              "        text-align: right;\n",
              "    }\n",
              "</style>\n",
              "<table border=\"1\" class=\"dataframe\">\n",
              "  <thead>\n",
              "    <tr style=\"text-align: right;\">\n",
              "      <th>Province</th>\n",
              "      <th>ALBERTA_DailyTotals</th>\n",
              "      <th>BC_DailyTotals</th>\n",
              "      <th>...</th>\n",
              "      <th>SASKATCHEWAN_DailyICU</th>\n",
              "      <th>YUKON_DailyICU</th>\n",
              "    </tr>\n",
              "    <tr>\n",
              "      <th>SummaryDate</th>\n",
              "      <th></th>\n",
              "      <th></th>\n",
              "      <th></th>\n",
              "      <th></th>\n",
              "      <th></th>\n",
              "    </tr>\n",
              "  </thead>\n",
              "  <tbody>\n",
              "    <tr>\n",
              "      <th>2020-01-25</th>\n",
              "      <td>0.0</td>\n",
              "      <td>0.0</td>\n",
              "      <td>...</td>\n",
              "      <td>0.0</td>\n",
              "      <td>0.0</td>\n",
              "    </tr>\n",
              "    <tr>\n",
              "      <th>2020-01-26</th>\n",
              "      <td>0.0</td>\n",
              "      <td>0.0</td>\n",
              "      <td>...</td>\n",
              "      <td>0.0</td>\n",
              "      <td>0.0</td>\n",
              "    </tr>\n",
              "    <tr>\n",
              "      <th>2020-01-27</th>\n",
              "      <td>0.0</td>\n",
              "      <td>0.0</td>\n",
              "      <td>...</td>\n",
              "      <td>0.0</td>\n",
              "      <td>0.0</td>\n",
              "    </tr>\n",
              "    <tr>\n",
              "      <th>2020-01-28</th>\n",
              "      <td>0.0</td>\n",
              "      <td>1.0</td>\n",
              "      <td>...</td>\n",
              "      <td>0.0</td>\n",
              "      <td>0.0</td>\n",
              "    </tr>\n",
              "    <tr>\n",
              "      <th>2020-01-29</th>\n",
              "      <td>0.0</td>\n",
              "      <td>0.0</td>\n",
              "      <td>...</td>\n",
              "      <td>0.0</td>\n",
              "      <td>0.0</td>\n",
              "    </tr>\n",
              "    <tr>\n",
              "      <th>...</th>\n",
              "      <td>...</td>\n",
              "      <td>...</td>\n",
              "      <td>...</td>\n",
              "      <td>...</td>\n",
              "      <td>...</td>\n",
              "    </tr>\n",
              "    <tr>\n",
              "      <th>2020-11-28</th>\n",
              "      <td>1731.0</td>\n",
              "      <td>0.0</td>\n",
              "      <td>...</td>\n",
              "      <td>2.0</td>\n",
              "      <td>0.0</td>\n",
              "    </tr>\n",
              "    <tr>\n",
              "      <th>2020-11-29</th>\n",
              "      <td>1608.0</td>\n",
              "      <td>0.0</td>\n",
              "      <td>...</td>\n",
              "      <td>5.0</td>\n",
              "      <td>0.0</td>\n",
              "    </tr>\n",
              "    <tr>\n",
              "      <th>2020-11-30</th>\n",
              "      <td>1733.0</td>\n",
              "      <td>2354.0</td>\n",
              "      <td>...</td>\n",
              "      <td>0.0</td>\n",
              "      <td>0.0</td>\n",
              "    </tr>\n",
              "    <tr>\n",
              "      <th>2020-12-01</th>\n",
              "      <td>1307.0</td>\n",
              "      <td>656.0</td>\n",
              "      <td>...</td>\n",
              "      <td>1.0</td>\n",
              "      <td>0.0</td>\n",
              "    </tr>\n",
              "    <tr>\n",
              "      <th>2020-12-02</th>\n",
              "      <td>1685.0</td>\n",
              "      <td>834.0</td>\n",
              "      <td>...</td>\n",
              "      <td>2.0</td>\n",
              "      <td>0.0</td>\n",
              "    </tr>\n",
              "  </tbody>\n",
              "</table>\n",
              "<p>313 rows × 208 columns</p>\n",
              "</div>"
            ],
            "text/plain": [
              "Province     ALBERTA_DailyTotals  BC_DailyTotals  ...  SASKATCHEWAN_DailyICU  \\\n",
              "SummaryDate                                       ...                          \n",
              "2020-01-25                   0.0             0.0  ...                    0.0   \n",
              "2020-01-26                   0.0             0.0  ...                    0.0   \n",
              "2020-01-27                   0.0             0.0  ...                    0.0   \n",
              "2020-01-28                   0.0             1.0  ...                    0.0   \n",
              "2020-01-29                   0.0             0.0  ...                    0.0   \n",
              "...                          ...             ...  ...                    ...   \n",
              "2020-11-28                1731.0             0.0  ...                    2.0   \n",
              "2020-11-29                1608.0             0.0  ...                    5.0   \n",
              "2020-11-30                1733.0          2354.0  ...                    0.0   \n",
              "2020-12-01                1307.0           656.0  ...                    1.0   \n",
              "2020-12-02                1685.0           834.0  ...                    2.0   \n",
              "\n",
              "Province     YUKON_DailyICU  \n",
              "SummaryDate                  \n",
              "2020-01-25              0.0  \n",
              "2020-01-26              0.0  \n",
              "2020-01-27              0.0  \n",
              "2020-01-28              0.0  \n",
              "2020-01-29              0.0  \n",
              "...                     ...  \n",
              "2020-11-28              0.0  \n",
              "2020-11-29              0.0  \n",
              "2020-11-30              0.0  \n",
              "2020-12-01              0.0  \n",
              "2020-12-02              0.0  \n",
              "\n",
              "[313 rows x 208 columns]"
            ]
          },
          "metadata": {
            "tags": []
          },
          "execution_count": 465
        }
      ]
    },
    {
      "cell_type": "code",
      "metadata": {
        "id": "BKwpM-VBCyq3",
        "colab": {
          "base_uri": "https://localhost:8080/",
          "height": 264
        },
        "outputId": "9d5e9af7-ed74-4029-eb7b-b208f8b33619"
      },
      "source": [
        "data = drop_constant_columns(data_transpose)\n",
        "data= normalize(data)\n",
        "data.head()"
      ],
      "execution_count": null,
      "outputs": [
        {
          "output_type": "execute_result",
          "data": {
            "text/html": [
              "<div>\n",
              "<style scoped>\n",
              "    .dataframe tbody tr th:only-of-type {\n",
              "        vertical-align: middle;\n",
              "    }\n",
              "\n",
              "    .dataframe tbody tr th {\n",
              "        vertical-align: top;\n",
              "    }\n",
              "\n",
              "    .dataframe thead th {\n",
              "        text-align: right;\n",
              "    }\n",
              "</style>\n",
              "<table border=\"1\" class=\"dataframe\">\n",
              "  <thead>\n",
              "    <tr style=\"text-align: right;\">\n",
              "      <th>Province</th>\n",
              "      <th>ALBERTA_DailyTotals</th>\n",
              "      <th>BC_DailyTotals</th>\n",
              "      <th>...</th>\n",
              "      <th>QUEBEC_DailyICU</th>\n",
              "      <th>SASKATCHEWAN_DailyICU</th>\n",
              "    </tr>\n",
              "    <tr>\n",
              "      <th>SummaryDate</th>\n",
              "      <th></th>\n",
              "      <th></th>\n",
              "      <th></th>\n",
              "      <th></th>\n",
              "      <th></th>\n",
              "    </tr>\n",
              "  </thead>\n",
              "  <tbody>\n",
              "    <tr>\n",
              "      <th>2020-01-25</th>\n",
              "      <td>0.0</td>\n",
              "      <td>0.000849</td>\n",
              "      <td>...</td>\n",
              "      <td>0.276753</td>\n",
              "      <td>0.5</td>\n",
              "    </tr>\n",
              "    <tr>\n",
              "      <th>2020-01-26</th>\n",
              "      <td>0.0</td>\n",
              "      <td>0.000849</td>\n",
              "      <td>...</td>\n",
              "      <td>0.276753</td>\n",
              "      <td>0.5</td>\n",
              "    </tr>\n",
              "    <tr>\n",
              "      <th>2020-01-27</th>\n",
              "      <td>0.0</td>\n",
              "      <td>0.000849</td>\n",
              "      <td>...</td>\n",
              "      <td>0.276753</td>\n",
              "      <td>0.5</td>\n",
              "    </tr>\n",
              "    <tr>\n",
              "      <th>2020-01-28</th>\n",
              "      <td>0.0</td>\n",
              "      <td>0.001273</td>\n",
              "      <td>...</td>\n",
              "      <td>0.276753</td>\n",
              "      <td>0.5</td>\n",
              "    </tr>\n",
              "    <tr>\n",
              "      <th>2020-01-29</th>\n",
              "      <td>0.0</td>\n",
              "      <td>0.000849</td>\n",
              "      <td>...</td>\n",
              "      <td>0.276753</td>\n",
              "      <td>0.5</td>\n",
              "    </tr>\n",
              "  </tbody>\n",
              "</table>\n",
              "<p>5 rows × 167 columns</p>\n",
              "</div>"
            ],
            "text/plain": [
              "Province     ALBERTA_DailyTotals  BC_DailyTotals  ...  QUEBEC_DailyICU  \\\n",
              "SummaryDate                                       ...                    \n",
              "2020-01-25                   0.0        0.000849  ...         0.276753   \n",
              "2020-01-26                   0.0        0.000849  ...         0.276753   \n",
              "2020-01-27                   0.0        0.000849  ...         0.276753   \n",
              "2020-01-28                   0.0        0.001273  ...         0.276753   \n",
              "2020-01-29                   0.0        0.000849  ...         0.276753   \n",
              "\n",
              "Province     SASKATCHEWAN_DailyICU  \n",
              "SummaryDate                         \n",
              "2020-01-25                     0.5  \n",
              "2020-01-26                     0.5  \n",
              "2020-01-27                     0.5  \n",
              "2020-01-28                     0.5  \n",
              "2020-01-29                     0.5  \n",
              "\n",
              "[5 rows x 167 columns]"
            ]
          },
          "metadata": {
            "tags": []
          },
          "execution_count": 466
        }
      ]
    },
    {
      "cell_type": "markdown",
      "metadata": {
        "id": "NKaWITgVCyq8"
      },
      "source": [
        "### Correlation Analysis: Feature to Feature & Feature to Target Var"
      ]
    },
    {
      "cell_type": "code",
      "metadata": {
        "id": "ypveUzv3a4XG"
      },
      "source": [
        "def del_lowcorrelation(dataset_in, threshold):\n",
        "    col_corr = set() # Set of all the names of deleted columns\n",
        "    dataset = dataset_in.copy()\n",
        "    corr_matrix2 = abs(dataset.corr())\n",
        "    corr_matrix2 = corr_matrix2[\"ONTARIO_DailyHospitalized\"]\n",
        "\n",
        "\n",
        "    for i in range(len(corr_matrix2)):        \n",
        "        if (corr_matrix2.iloc[i] <= threshold):\n",
        "                colname = corr_matrix2.index[i] # getting the name of features to remove \n",
        "                col_corr.add(colname)\n",
        "                if (colname in dataset.columns):\n",
        "                    del dataset[colname] # deleting the column from the dataset\n",
        "    return(dataset)"
      ],
      "execution_count": null,
      "outputs": []
    },
    {
      "cell_type": "code",
      "metadata": {
        "tags": [],
        "id": "CUo2Y58mCyq8",
        "colab": {
          "base_uri": "https://localhost:8080/"
        },
        "outputId": "0057bb0f-617f-4105-b62f-bc0fd7976af5"
      },
      "source": [
        "# Delete Features that are not correlated with the target variable \n",
        "data = del_lowcorrelation(data,0.7)\n",
        "data.head()"
      ],
      "execution_count": null,
      "outputs": [
        {
          "output_type": "execute_result",
          "data": {
            "text/html": [
              "<div>\n",
              "<style scoped>\n",
              "    .dataframe tbody tr th:only-of-type {\n",
              "        vertical-align: middle;\n",
              "    }\n",
              "\n",
              "    .dataframe tbody tr th {\n",
              "        vertical-align: top;\n",
              "    }\n",
              "\n",
              "    .dataframe thead th {\n",
              "        text-align: right;\n",
              "    }\n",
              "</style>\n",
              "<table border=\"1\" class=\"dataframe\">\n",
              "  <thead>\n",
              "    <tr style=\"text-align: right;\">\n",
              "      <th>Province</th>\n",
              "      <th>REPATRIATED CDN_DailyRecovered</th>\n",
              "      <th>REPATRIATED CDN_DailyActive</th>\n",
              "      <th>CANADA_DailyHospitalized</th>\n",
              "      <th>ONTARIO_DailyHospitalized</th>\n",
              "      <th>CANADA_DailyICU</th>\n",
              "    </tr>\n",
              "    <tr>\n",
              "      <th>SummaryDate</th>\n",
              "      <th></th>\n",
              "      <th></th>\n",
              "      <th></th>\n",
              "      <th></th>\n",
              "      <th></th>\n",
              "    </tr>\n",
              "  </thead>\n",
              "  <tbody>\n",
              "    <tr>\n",
              "      <th>2020-01-25</th>\n",
              "      <td>0.0</td>\n",
              "      <td>1.0</td>\n",
              "      <td>0.146105</td>\n",
              "      <td>0.337526</td>\n",
              "      <td>0.214925</td>\n",
              "    </tr>\n",
              "    <tr>\n",
              "      <th>2020-01-26</th>\n",
              "      <td>0.0</td>\n",
              "      <td>1.0</td>\n",
              "      <td>0.146105</td>\n",
              "      <td>0.337526</td>\n",
              "      <td>0.214925</td>\n",
              "    </tr>\n",
              "    <tr>\n",
              "      <th>2020-01-27</th>\n",
              "      <td>0.0</td>\n",
              "      <td>1.0</td>\n",
              "      <td>0.146105</td>\n",
              "      <td>0.337526</td>\n",
              "      <td>0.214925</td>\n",
              "    </tr>\n",
              "    <tr>\n",
              "      <th>2020-01-28</th>\n",
              "      <td>0.0</td>\n",
              "      <td>1.0</td>\n",
              "      <td>0.146105</td>\n",
              "      <td>0.337526</td>\n",
              "      <td>0.214925</td>\n",
              "    </tr>\n",
              "    <tr>\n",
              "      <th>2020-01-29</th>\n",
              "      <td>0.0</td>\n",
              "      <td>1.0</td>\n",
              "      <td>0.146105</td>\n",
              "      <td>0.337526</td>\n",
              "      <td>0.214925</td>\n",
              "    </tr>\n",
              "  </tbody>\n",
              "</table>\n",
              "</div>"
            ],
            "text/plain": [
              "Province     REPATRIATED CDN_DailyRecovered  REPATRIATED CDN_DailyActive  \\\n",
              "SummaryDate                                                                \n",
              "2020-01-25                              0.0                          1.0   \n",
              "2020-01-26                              0.0                          1.0   \n",
              "2020-01-27                              0.0                          1.0   \n",
              "2020-01-28                              0.0                          1.0   \n",
              "2020-01-29                              0.0                          1.0   \n",
              "\n",
              "Province     CANADA_DailyHospitalized  ONTARIO_DailyHospitalized  \\\n",
              "SummaryDate                                                        \n",
              "2020-01-25                   0.146105                   0.337526   \n",
              "2020-01-26                   0.146105                   0.337526   \n",
              "2020-01-27                   0.146105                   0.337526   \n",
              "2020-01-28                   0.146105                   0.337526   \n",
              "2020-01-29                   0.146105                   0.337526   \n",
              "\n",
              "Province     CANADA_DailyICU  \n",
              "SummaryDate                   \n",
              "2020-01-25          0.214925  \n",
              "2020-01-26          0.214925  \n",
              "2020-01-27          0.214925  \n",
              "2020-01-28          0.214925  \n",
              "2020-01-29          0.214925  "
            ]
          },
          "metadata": {
            "tags": []
          },
          "execution_count": 452
        }
      ]
    },
    {
      "cell_type": "code",
      "metadata": {
        "id": "t0KTsQfvCyrM"
      },
      "source": [
        "def del_highcorr(dataset_complete, threshold):\n",
        "    copy = dataset_complete.copy()\n",
        "    dataset = dataset_complete.copy()\n",
        "    del dataset['ONTARIO_DailyHospitalized']\n",
        "    col_corr = set() # Set of all the names of deleted columns\n",
        "    corr_matrix = dataset.corr()\n",
        "    corr_matrix = abs(corr_matrix)\n",
        "    for i in range(len(corr_matrix.columns)):\n",
        "        for j in range(i):\n",
        "            if (corr_matrix.iloc[i, j] >= abs(threshold)) and (corr_matrix.columns[j] not in col_corr):\n",
        "                colname = corr_matrix.columns[i] # getting the name of column\n",
        "                col_corr.add(colname)\n",
        "                if (colname in copy.columns):\n",
        "                    del copy[colname] # deleting the column from the dataset\n",
        "    return(copy)\n"
      ],
      "execution_count": null,
      "outputs": []
    },
    {
      "cell_type": "code",
      "metadata": {
        "id": "w7q7PrsgCyrP",
        "colab": {
          "base_uri": "https://localhost:8080/"
        },
        "outputId": "828f66ac-c7b9-493e-c821-18641c8a60f4"
      },
      "source": [
        "# delete vars that have a high correlation with other features \n",
        "data_new = del_highcorr(data, 0.7)\n",
        "data_new.head()\n"
      ],
      "execution_count": null,
      "outputs": [
        {
          "output_type": "execute_result",
          "data": {
            "text/html": [
              "<div>\n",
              "<style scoped>\n",
              "    .dataframe tbody tr th:only-of-type {\n",
              "        vertical-align: middle;\n",
              "    }\n",
              "\n",
              "    .dataframe tbody tr th {\n",
              "        vertical-align: top;\n",
              "    }\n",
              "\n",
              "    .dataframe thead th {\n",
              "        text-align: right;\n",
              "    }\n",
              "</style>\n",
              "<table border=\"1\" class=\"dataframe\">\n",
              "  <thead>\n",
              "    <tr style=\"text-align: right;\">\n",
              "      <th>Province</th>\n",
              "      <th>REPATRIATED CDN_DailyRecovered</th>\n",
              "      <th>ONTARIO_DailyHospitalized</th>\n",
              "    </tr>\n",
              "    <tr>\n",
              "      <th>SummaryDate</th>\n",
              "      <th></th>\n",
              "      <th></th>\n",
              "    </tr>\n",
              "  </thead>\n",
              "  <tbody>\n",
              "    <tr>\n",
              "      <th>2020-01-25</th>\n",
              "      <td>0.0</td>\n",
              "      <td>0.337526</td>\n",
              "    </tr>\n",
              "    <tr>\n",
              "      <th>2020-01-26</th>\n",
              "      <td>0.0</td>\n",
              "      <td>0.337526</td>\n",
              "    </tr>\n",
              "    <tr>\n",
              "      <th>2020-01-27</th>\n",
              "      <td>0.0</td>\n",
              "      <td>0.337526</td>\n",
              "    </tr>\n",
              "    <tr>\n",
              "      <th>2020-01-28</th>\n",
              "      <td>0.0</td>\n",
              "      <td>0.337526</td>\n",
              "    </tr>\n",
              "    <tr>\n",
              "      <th>2020-01-29</th>\n",
              "      <td>0.0</td>\n",
              "      <td>0.337526</td>\n",
              "    </tr>\n",
              "  </tbody>\n",
              "</table>\n",
              "</div>"
            ],
            "text/plain": [
              "Province     REPATRIATED CDN_DailyRecovered  ONTARIO_DailyHospitalized\n",
              "SummaryDate                                                           \n",
              "2020-01-25                              0.0                   0.337526\n",
              "2020-01-26                              0.0                   0.337526\n",
              "2020-01-27                              0.0                   0.337526\n",
              "2020-01-28                              0.0                   0.337526\n",
              "2020-01-29                              0.0                   0.337526"
            ]
          },
          "metadata": {
            "tags": []
          },
          "execution_count": 454
        }
      ]
    },
    {
      "cell_type": "code",
      "metadata": {
        "tags": [],
        "id": "VNOLCxjbCyrJ",
        "colab": {
          "base_uri": "https://localhost:8080/"
        },
        "outputId": "b142f3c0-45b7-4997-8909-375d4de83c62"
      },
      "source": [
        "# check the correlation of these variables with the target variable Price \n",
        "corr_matrix = data_new.corr()\n",
        "corr_matrix = abs(corr_matrix)\n",
        "print(corr_matrix[\"ONTARIO_DailyHospitalized\"].sort_values(ascending=False))"
      ],
      "execution_count": null,
      "outputs": [
        {
          "output_type": "stream",
          "text": [
            "Province\n",
            "ONTARIO_DailyHospitalized         1.000000\n",
            "REPATRIATED CDN_DailyRecovered    0.745132\n",
            "Name: ONTARIO_DailyHospitalized, dtype: float64\n"
          ],
          "name": "stdout"
        }
      ]
    },
    {
      "cell_type": "markdown",
      "metadata": {
        "id": "1OMHD7p3t9Qf"
      },
      "source": [
        "### Feature Selection with Linear Regression Coefficient Ranking "
      ]
    },
    {
      "cell_type": "code",
      "metadata": {
        "colab": {
          "base_uri": "https://localhost:8080/"
        },
        "id": "GoZLVpE-uDE2",
        "outputId": "784028e6-1a2a-4d87-c5f0-68ce3d84ec44"
      },
      "source": [
        "# test and training sets for LR model \n",
        "\n",
        "y2 = data['ONTARIO_DailyHospitalized'].values\n",
        "X2 = data.values\n",
        "\n",
        "X_train2,X_test2,y_train2,y_test2 = train_test_split(X2, y2, test_size = 0.1, shuffle = False)\n",
        "\n",
        "# Create linear regression object\n",
        "regr2 = linear_model.LinearRegression()\n",
        "# Train the model using the training sets\n",
        "regr2.fit(X_train2, y_train2)\n",
        "# Make predictions using the testing set\n",
        "pred_LR2 = regr2.predict(X_test2)\n",
        "# The coefficients\n",
        "print('Coefficients: \\n', regr2.coef_)\n",
        "LRCoefficientvals = pd.DataFrame(regr2.coef_).transpose()\n"
      ],
      "execution_count": null,
      "outputs": [
        {
          "output_type": "stream",
          "text": [
            "Coefficients: \n",
            " [ 3.70157614e-03  3.78840721e-03 -1.26934153e-02  8.74742581e-04\n",
            "  2.57033488e-05  4.02902027e-05  9.00470303e-05  3.96306962e-05\n",
            "  5.58839884e-06  2.98280788e-03  1.09051957e-05  3.55203375e-03\n",
            "  3.21596537e-06  6.97864485e-04  9.94848161e-06 -8.61116733e-13\n",
            " -4.96935826e-13  5.47397024e-12 -2.43647116e-13 -5.40539835e-15\n",
            " -3.64291930e-15 -1.96925809e-14 -1.03042574e-14 -4.44089210e-16\n",
            " -1.67087524e-12 -1.41553436e-15 -2.03406736e-12  6.93889390e-18\n",
            "  3.66373598e-15 -1.27072831e-13  5.10876064e-16  8.54177840e-15\n",
            "  1.26860328e-14 -1.14699916e-14  7.78890841e-16  2.73392420e-15\n",
            " -1.69178907e-15  1.27502175e-16  4.16333634e-16  3.83026943e-15\n",
            "  1.93942085e-15 -2.40779618e-15  6.84521884e-15 -3.27862737e-15\n",
            " -1.57703711e-14  9.03790931e-16 -7.12624404e-15  9.35015954e-15\n",
            " -7.26259330e-14  1.21430643e-15  6.86624090e-06  9.67668625e-06\n",
            "  1.50660734e-15 -8.32667268e-17  1.05441488e-06  5.92408067e-15\n",
            "  4.50878246e-07 -7.58256305e-14  1.90125693e-15 -2.06709649e-14\n",
            " -3.50683085e-07  1.73372130e-11  1.44965789e-11 -3.81080609e-10\n",
            "  1.05661200e-11  2.14304269e-13  1.23724815e-13  2.01021751e-12\n",
            "  1.14333290e-10  2.20307588e-10  1.64575471e-12 -1.47133730e-06\n",
            " -6.79988184e-13 -1.45665424e-12  6.86089553e-12 -4.94437824e-13\n",
            "  9.80891496e-07  3.87067419e-07 -1.85539084e-13 -2.68841546e-12\n",
            " -6.24409378e-12 -1.24577432e-13  2.89257706e-06  1.65128328e-14\n",
            " -1.63445646e-14  5.31996322e-15 -1.77874208e-15 -1.88529747e-14\n",
            " -6.07023112e-15  1.71043735e-15 -1.60461922e-15 -4.43482057e-15\n",
            "  1.05310725e-14 -5.47912410e-15  9.97465999e-17  1.03883915e-14\n",
            "  8.21391566e-16 -4.89192020e-15  1.24206201e-15  1.98452366e-15\n",
            " -3.33066907e-16 -1.42247325e-16  1.10675358e-15  5.96744876e-16\n",
            "  5.05455053e-16  8.22258928e-16  4.18068358e-16  2.99239800e-16\n",
            " -1.00353753e-15  1.83880688e-16  1.73472348e-18 -5.68815828e-15\n",
            "  8.88525364e-15 -7.98658015e-14 -3.67761377e-16  1.52038191e-05\n",
            "  2.05145749e-05  2.22738494e-15  2.56865623e-05  1.89794678e-06\n",
            "  3.61603109e-15  7.01366159e-07 -8.25121221e-14  3.21596537e-06\n",
            "  1.04777298e-15 -4.22162305e-14 -4.00780668e-07 -8.76035355e-16\n",
            "  1.86135829e-15 -6.84955564e-15 -2.55004351e-16  4.96130914e-16\n",
            " -1.90819582e-16 -1.11542720e-15  1.28716482e-15  4.53109772e-15\n",
            " -7.12971349e-16 -1.63064007e-16  1.58206781e-15  1.20736754e-15\n",
            "  1.04083409e-17 -5.48172618e-16  3.05311332e-16 -4.51028104e-16\n",
            "  1.00000000e+00  8.53483950e-16  2.77555756e-17 -1.08420217e-15\n",
            "  4.96130914e-16 -2.79810897e-15 -1.24206201e-15 -5.65519853e-16\n",
            "  5.70724024e-16  8.39606162e-16  1.73472348e-15  2.16146545e-15\n",
            "  9.92261828e-16  3.56159546e-13  5.04513098e-13 -6.60487637e-12\n",
            "  7.92699240e-14  3.95655730e-14  2.62255495e-14  3.29319905e-14\n",
            "  4.52488741e-12  1.77834136e-12  6.52394805e-14]\n"
          ],
          "name": "stdout"
        }
      ]
    },
    {
      "cell_type": "code",
      "metadata": {
        "colab": {
          "base_uri": "https://localhost:8080/"
        },
        "id": "x2QfCl9cY0J-",
        "outputId": "f4e86de5-eef3-4f63-bf26-3f91ca29884b"
      },
      "source": [
        "cols = data.columns.tolist()\n",
        "cols = cols[0:int(len(cols))]\n",
        "\n",
        "\n",
        "LRCoefficients = LRCoefficientvals.set_axis(cols, axis=1, inplace=False)\n",
        "LRCoefficients.index = ['coef']\n",
        "LRCoefficients_trans = LRCoefficients.transpose()\n",
        "LRCoefficients_trans = LRCoefficients_trans.sort_values(by= 'coef', ascending=False)\n",
        "\n",
        "\n",
        "LRCoefficients_trans"
      ],
      "execution_count": null,
      "outputs": [
        {
          "output_type": "execute_result",
          "data": {
            "text/html": [
              "<div>\n",
              "<style scoped>\n",
              "    .dataframe tbody tr th:only-of-type {\n",
              "        vertical-align: middle;\n",
              "    }\n",
              "\n",
              "    .dataframe tbody tr th {\n",
              "        vertical-align: top;\n",
              "    }\n",
              "\n",
              "    .dataframe thead th {\n",
              "        text-align: right;\n",
              "    }\n",
              "</style>\n",
              "<table border=\"1\" class=\"dataframe\">\n",
              "  <thead>\n",
              "    <tr style=\"text-align: right;\">\n",
              "      <th></th>\n",
              "      <th>coef</th>\n",
              "    </tr>\n",
              "  </thead>\n",
              "  <tbody>\n",
              "    <tr>\n",
              "      <th>ONTARIO_DailyHospitalized</th>\n",
              "      <td>1.000000e+00</td>\n",
              "    </tr>\n",
              "    <tr>\n",
              "      <th>BC_DailyTotals</th>\n",
              "      <td>3.788407e-03</td>\n",
              "    </tr>\n",
              "    <tr>\n",
              "      <th>ALBERTA_DailyTotals</th>\n",
              "      <td>3.701576e-03</td>\n",
              "    </tr>\n",
              "    <tr>\n",
              "      <th>QUEBEC_DailyTotals</th>\n",
              "      <td>3.552034e-03</td>\n",
              "    </tr>\n",
              "    <tr>\n",
              "      <th>ONTARIO_DailyTotals</th>\n",
              "      <td>2.982808e-03</td>\n",
              "    </tr>\n",
              "    <tr>\n",
              "      <th>...</th>\n",
              "      <td>...</td>\n",
              "    </tr>\n",
              "    <tr>\n",
              "      <th>CANADA_TotalDeaths</th>\n",
              "      <td>-3.810806e-10</td>\n",
              "    </tr>\n",
              "    <tr>\n",
              "      <th>YUKON_DailyRecovered</th>\n",
              "      <td>-3.506831e-07</td>\n",
              "    </tr>\n",
              "    <tr>\n",
              "      <th>YUKON_DailyActive</th>\n",
              "      <td>-4.007807e-07</td>\n",
              "    </tr>\n",
              "    <tr>\n",
              "      <th>YUKON_TotalDeaths</th>\n",
              "      <td>-1.471337e-06</td>\n",
              "    </tr>\n",
              "    <tr>\n",
              "      <th>CANADA_DailyTotals</th>\n",
              "      <td>-1.269342e-02</td>\n",
              "    </tr>\n",
              "  </tbody>\n",
              "</table>\n",
              "<p>167 rows × 1 columns</p>\n",
              "</div>"
            ],
            "text/plain": [
              "                                   coef\n",
              "ONTARIO_DailyHospitalized  1.000000e+00\n",
              "BC_DailyTotals             3.788407e-03\n",
              "ALBERTA_DailyTotals        3.701576e-03\n",
              "QUEBEC_DailyTotals         3.552034e-03\n",
              "ONTARIO_DailyTotals        2.982808e-03\n",
              "...                                 ...\n",
              "CANADA_TotalDeaths        -3.810806e-10\n",
              "YUKON_DailyRecovered      -3.506831e-07\n",
              "YUKON_DailyActive         -4.007807e-07\n",
              "YUKON_TotalDeaths         -1.471337e-06\n",
              "CANADA_DailyTotals        -1.269342e-02\n",
              "\n",
              "[167 rows x 1 columns]"
            ]
          },
          "metadata": {
            "tags": []
          },
          "execution_count": 433
        }
      ]
    },
    {
      "cell_type": "code",
      "metadata": {
        "id": "966WQVpHvS0o"
      },
      "source": [
        "cols = data.columns.tolist()\n",
        "cols = cols[0:int(len(cols))]\n",
        "\n",
        "LRCoefficients = LRCoefficients_trans.transpose()\n"
      ],
      "execution_count": null,
      "outputs": []
    },
    {
      "cell_type": "code",
      "metadata": {
        "colab": {
          "base_uri": "https://localhost:8080/"
        },
        "id": "uBCZQZj-L2S-",
        "outputId": "e1a8aaf8-792e-4c42-c44a-520d92581d29"
      },
      "source": [
        "# select threshold that results in the top 4 features \n",
        "keep_cols = []\n",
        "for (columnName, columnData) in LRCoefficients.iteritems():\n",
        "  if columnData.values > 0.003:\n",
        "    keep_cols.append(columnName)\n",
        "\n",
        "result = data[keep_cols]\n",
        "result.head()\n",
        "result.shape\n",
        "result"
      ],
      "execution_count": null,
      "outputs": [
        {
          "output_type": "execute_result",
          "data": {
            "text/html": [
              "<div>\n",
              "<style scoped>\n",
              "    .dataframe tbody tr th:only-of-type {\n",
              "        vertical-align: middle;\n",
              "    }\n",
              "\n",
              "    .dataframe tbody tr th {\n",
              "        vertical-align: top;\n",
              "    }\n",
              "\n",
              "    .dataframe thead th {\n",
              "        text-align: right;\n",
              "    }\n",
              "</style>\n",
              "<table border=\"1\" class=\"dataframe\">\n",
              "  <thead>\n",
              "    <tr style=\"text-align: right;\">\n",
              "      <th>Province</th>\n",
              "      <th>ONTARIO_DailyHospitalized</th>\n",
              "      <th>BC_DailyTotals</th>\n",
              "      <th>ALBERTA_DailyTotals</th>\n",
              "      <th>QUEBEC_DailyTotals</th>\n",
              "    </tr>\n",
              "    <tr>\n",
              "      <th>SummaryDate</th>\n",
              "      <th></th>\n",
              "      <th></th>\n",
              "      <th></th>\n",
              "      <th></th>\n",
              "    </tr>\n",
              "  </thead>\n",
              "  <tbody>\n",
              "    <tr>\n",
              "      <th>2020-01-25</th>\n",
              "      <td>0.337526</td>\n",
              "      <td>0.000849</td>\n",
              "      <td>0.000000</td>\n",
              "      <td>0.000000</td>\n",
              "    </tr>\n",
              "    <tr>\n",
              "      <th>2020-01-26</th>\n",
              "      <td>0.337526</td>\n",
              "      <td>0.000849</td>\n",
              "      <td>0.000000</td>\n",
              "      <td>0.000000</td>\n",
              "    </tr>\n",
              "    <tr>\n",
              "      <th>2020-01-27</th>\n",
              "      <td>0.337526</td>\n",
              "      <td>0.000849</td>\n",
              "      <td>0.000000</td>\n",
              "      <td>0.000000</td>\n",
              "    </tr>\n",
              "    <tr>\n",
              "      <th>2020-01-28</th>\n",
              "      <td>0.337526</td>\n",
              "      <td>0.001273</td>\n",
              "      <td>0.000000</td>\n",
              "      <td>0.000000</td>\n",
              "    </tr>\n",
              "    <tr>\n",
              "      <th>2020-01-29</th>\n",
              "      <td>0.337526</td>\n",
              "      <td>0.000849</td>\n",
              "      <td>0.000000</td>\n",
              "      <td>0.000000</td>\n",
              "    </tr>\n",
              "    <tr>\n",
              "      <th>...</th>\n",
              "      <td>...</td>\n",
              "      <td>...</td>\n",
              "      <td>...</td>\n",
              "      <td>...</td>\n",
              "    </tr>\n",
              "    <tr>\n",
              "      <th>2020-11-28</th>\n",
              "      <td>0.393082</td>\n",
              "      <td>0.000849</td>\n",
              "      <td>0.751955</td>\n",
              "      <td>0.669986</td>\n",
              "    </tr>\n",
              "    <tr>\n",
              "      <th>2020-11-29</th>\n",
              "      <td>0.328092</td>\n",
              "      <td>0.000849</td>\n",
              "      <td>0.698523</td>\n",
              "      <td>0.631507</td>\n",
              "    </tr>\n",
              "    <tr>\n",
              "      <th>2020-11-30</th>\n",
              "      <td>0.371069</td>\n",
              "      <td>1.000000</td>\n",
              "      <td>0.752824</td>\n",
              "      <td>0.603440</td>\n",
              "    </tr>\n",
              "    <tr>\n",
              "      <th>2020-12-01</th>\n",
              "      <td>0.365828</td>\n",
              "      <td>0.279287</td>\n",
              "      <td>0.567767</td>\n",
              "      <td>0.532820</td>\n",
              "    </tr>\n",
              "    <tr>\n",
              "      <th>2020-12-02</th>\n",
              "      <td>0.349057</td>\n",
              "      <td>0.354839</td>\n",
              "      <td>0.731972</td>\n",
              "      <td>0.685378</td>\n",
              "    </tr>\n",
              "  </tbody>\n",
              "</table>\n",
              "<p>313 rows × 4 columns</p>\n",
              "</div>"
            ],
            "text/plain": [
              "Province     ONTARIO_DailyHospitalized  BC_DailyTotals  ALBERTA_DailyTotals  \\\n",
              "SummaryDate                                                                   \n",
              "2020-01-25                    0.337526        0.000849             0.000000   \n",
              "2020-01-26                    0.337526        0.000849             0.000000   \n",
              "2020-01-27                    0.337526        0.000849             0.000000   \n",
              "2020-01-28                    0.337526        0.001273             0.000000   \n",
              "2020-01-29                    0.337526        0.000849             0.000000   \n",
              "...                                ...             ...                  ...   \n",
              "2020-11-28                    0.393082        0.000849             0.751955   \n",
              "2020-11-29                    0.328092        0.000849             0.698523   \n",
              "2020-11-30                    0.371069        1.000000             0.752824   \n",
              "2020-12-01                    0.365828        0.279287             0.567767   \n",
              "2020-12-02                    0.349057        0.354839             0.731972   \n",
              "\n",
              "Province     QUEBEC_DailyTotals  \n",
              "SummaryDate                      \n",
              "2020-01-25             0.000000  \n",
              "2020-01-26             0.000000  \n",
              "2020-01-27             0.000000  \n",
              "2020-01-28             0.000000  \n",
              "2020-01-29             0.000000  \n",
              "...                         ...  \n",
              "2020-11-28             0.669986  \n",
              "2020-11-29             0.631507  \n",
              "2020-11-30             0.603440  \n",
              "2020-12-01             0.532820  \n",
              "2020-12-02             0.685378  \n",
              "\n",
              "[313 rows x 4 columns]"
            ]
          },
          "metadata": {
            "tags": []
          },
          "execution_count": 436
        }
      ]
    },
    {
      "cell_type": "code",
      "metadata": {
        "colab": {
          "base_uri": "https://localhost:8080/"
        },
        "id": "1PcadLM8wCx7",
        "outputId": "6b8e30bf-578a-48a7-8994-1cad913786e4"
      },
      "source": [
        "# Adjust position of target variable for ease \n",
        "data_new = result.copy()\n",
        "cols = data_new.columns.tolist()\n",
        "cols = cols[-int(len(result.columns)-1):] + cols[:-int(len(result.columns)-1)]\n",
        "data_new = data_new[cols]\n",
        "data_new.head()"
      ],
      "execution_count": null,
      "outputs": [
        {
          "output_type": "execute_result",
          "data": {
            "text/html": [
              "<div>\n",
              "<style scoped>\n",
              "    .dataframe tbody tr th:only-of-type {\n",
              "        vertical-align: middle;\n",
              "    }\n",
              "\n",
              "    .dataframe tbody tr th {\n",
              "        vertical-align: top;\n",
              "    }\n",
              "\n",
              "    .dataframe thead th {\n",
              "        text-align: right;\n",
              "    }\n",
              "</style>\n",
              "<table border=\"1\" class=\"dataframe\">\n",
              "  <thead>\n",
              "    <tr style=\"text-align: right;\">\n",
              "      <th>Province</th>\n",
              "      <th>BC_DailyTotals</th>\n",
              "      <th>ALBERTA_DailyTotals</th>\n",
              "      <th>QUEBEC_DailyTotals</th>\n",
              "      <th>ONTARIO_DailyHospitalized</th>\n",
              "    </tr>\n",
              "    <tr>\n",
              "      <th>SummaryDate</th>\n",
              "      <th></th>\n",
              "      <th></th>\n",
              "      <th></th>\n",
              "      <th></th>\n",
              "    </tr>\n",
              "  </thead>\n",
              "  <tbody>\n",
              "    <tr>\n",
              "      <th>2020-01-25</th>\n",
              "      <td>0.000849</td>\n",
              "      <td>0.0</td>\n",
              "      <td>0.0</td>\n",
              "      <td>0.337526</td>\n",
              "    </tr>\n",
              "    <tr>\n",
              "      <th>2020-01-26</th>\n",
              "      <td>0.000849</td>\n",
              "      <td>0.0</td>\n",
              "      <td>0.0</td>\n",
              "      <td>0.337526</td>\n",
              "    </tr>\n",
              "    <tr>\n",
              "      <th>2020-01-27</th>\n",
              "      <td>0.000849</td>\n",
              "      <td>0.0</td>\n",
              "      <td>0.0</td>\n",
              "      <td>0.337526</td>\n",
              "    </tr>\n",
              "    <tr>\n",
              "      <th>2020-01-28</th>\n",
              "      <td>0.001273</td>\n",
              "      <td>0.0</td>\n",
              "      <td>0.0</td>\n",
              "      <td>0.337526</td>\n",
              "    </tr>\n",
              "    <tr>\n",
              "      <th>2020-01-29</th>\n",
              "      <td>0.000849</td>\n",
              "      <td>0.0</td>\n",
              "      <td>0.0</td>\n",
              "      <td>0.337526</td>\n",
              "    </tr>\n",
              "  </tbody>\n",
              "</table>\n",
              "</div>"
            ],
            "text/plain": [
              "Province     BC_DailyTotals  ALBERTA_DailyTotals  QUEBEC_DailyTotals  \\\n",
              "SummaryDate                                                            \n",
              "2020-01-25         0.000849                  0.0                 0.0   \n",
              "2020-01-26         0.000849                  0.0                 0.0   \n",
              "2020-01-27         0.000849                  0.0                 0.0   \n",
              "2020-01-28         0.001273                  0.0                 0.0   \n",
              "2020-01-29         0.000849                  0.0                 0.0   \n",
              "\n",
              "Province     ONTARIO_DailyHospitalized  \n",
              "SummaryDate                             \n",
              "2020-01-25                    0.337526  \n",
              "2020-01-26                    0.337526  \n",
              "2020-01-27                    0.337526  \n",
              "2020-01-28                    0.337526  \n",
              "2020-01-29                    0.337526  "
            ]
          },
          "metadata": {
            "tags": []
          },
          "execution_count": 437
        }
      ]
    },
    {
      "cell_type": "markdown",
      "metadata": {
        "id": "v04BpI-qS7kE"
      },
      "source": [
        "## Univariate Model\n"
      ]
    },
    {
      "cell_type": "code",
      "metadata": {
        "colab": {
          "base_uri": "https://localhost:8080/"
        },
        "id": "QjonmnGFS91T",
        "outputId": "dc74c1dd-c32f-42a9-af04-189bbb64c672"
      },
      "source": [
        "data = data[['ONTARIO_DailyHospitalized']]\n",
        "data.head()"
      ],
      "execution_count": null,
      "outputs": [
        {
          "output_type": "execute_result",
          "data": {
            "text/html": [
              "<div>\n",
              "<style scoped>\n",
              "    .dataframe tbody tr th:only-of-type {\n",
              "        vertical-align: middle;\n",
              "    }\n",
              "\n",
              "    .dataframe tbody tr th {\n",
              "        vertical-align: top;\n",
              "    }\n",
              "\n",
              "    .dataframe thead th {\n",
              "        text-align: right;\n",
              "    }\n",
              "</style>\n",
              "<table border=\"1\" class=\"dataframe\">\n",
              "  <thead>\n",
              "    <tr style=\"text-align: right;\">\n",
              "      <th>Province</th>\n",
              "      <th>ONTARIO_DailyHospitalized</th>\n",
              "    </tr>\n",
              "    <tr>\n",
              "      <th>SummaryDate</th>\n",
              "      <th></th>\n",
              "    </tr>\n",
              "  </thead>\n",
              "  <tbody>\n",
              "    <tr>\n",
              "      <th>2020-01-25</th>\n",
              "      <td>0.337526</td>\n",
              "    </tr>\n",
              "    <tr>\n",
              "      <th>2020-01-26</th>\n",
              "      <td>0.337526</td>\n",
              "    </tr>\n",
              "    <tr>\n",
              "      <th>2020-01-27</th>\n",
              "      <td>0.337526</td>\n",
              "    </tr>\n",
              "    <tr>\n",
              "      <th>2020-01-28</th>\n",
              "      <td>0.337526</td>\n",
              "    </tr>\n",
              "    <tr>\n",
              "      <th>2020-01-29</th>\n",
              "      <td>0.337526</td>\n",
              "    </tr>\n",
              "  </tbody>\n",
              "</table>\n",
              "</div>"
            ],
            "text/plain": [
              "Province     ONTARIO_DailyHospitalized\n",
              "SummaryDate                           \n",
              "2020-01-25                    0.337526\n",
              "2020-01-26                    0.337526\n",
              "2020-01-27                    0.337526\n",
              "2020-01-28                    0.337526\n",
              "2020-01-29                    0.337526"
            ]
          },
          "metadata": {
            "tags": []
          },
          "execution_count": 467
        }
      ]
    },
    {
      "cell_type": "code",
      "metadata": {
        "id": "u6SL6Zc3UDRF"
      },
      "source": [
        "data_new = data.copy()"
      ],
      "execution_count": null,
      "outputs": []
    },
    {
      "cell_type": "markdown",
      "metadata": {
        "id": "KSd2Lp4HVYX8"
      },
      "source": [
        "## Main Models Tested"
      ]
    },
    {
      "cell_type": "markdown",
      "metadata": {
        "id": "351p00KIa6BZ"
      },
      "source": [
        "### Prepare Data for N steps in N steps out "
      ]
    },
    {
      "cell_type": "code",
      "metadata": {
        "colab": {
          "base_uri": "https://localhost:8080/",
          "height": 235
        },
        "id": "Q3WQOmmTZMOy",
        "outputId": "5ff1c47e-dfeb-4a35-dab8-b36edaa70313"
      },
      "source": [
        "data_new['Target'] = data_new['ONTARIO_DailyHospitalized'].shift(-1)\n",
        "data_new = data_new.iloc[0: int(len(data_new)-1)]\n",
        "data_new.tail()"
      ],
      "execution_count": null,
      "outputs": [
        {
          "output_type": "execute_result",
          "data": {
            "text/html": [
              "<div>\n",
              "<style scoped>\n",
              "    .dataframe tbody tr th:only-of-type {\n",
              "        vertical-align: middle;\n",
              "    }\n",
              "\n",
              "    .dataframe tbody tr th {\n",
              "        vertical-align: top;\n",
              "    }\n",
              "\n",
              "    .dataframe thead th {\n",
              "        text-align: right;\n",
              "    }\n",
              "</style>\n",
              "<table border=\"1\" class=\"dataframe\">\n",
              "  <thead>\n",
              "    <tr style=\"text-align: right;\">\n",
              "      <th>Province</th>\n",
              "      <th>ONTARIO_DailyHospitalized</th>\n",
              "      <th>Target</th>\n",
              "    </tr>\n",
              "    <tr>\n",
              "      <th>SummaryDate</th>\n",
              "      <th></th>\n",
              "      <th></th>\n",
              "    </tr>\n",
              "  </thead>\n",
              "  <tbody>\n",
              "    <tr>\n",
              "      <th>2020-11-26</th>\n",
              "      <td>0.372117</td>\n",
              "      <td>0.322851</td>\n",
              "    </tr>\n",
              "    <tr>\n",
              "      <th>2020-11-27</th>\n",
              "      <td>0.322851</td>\n",
              "      <td>0.393082</td>\n",
              "    </tr>\n",
              "    <tr>\n",
              "      <th>2020-11-28</th>\n",
              "      <td>0.393082</td>\n",
              "      <td>0.328092</td>\n",
              "    </tr>\n",
              "    <tr>\n",
              "      <th>2020-11-29</th>\n",
              "      <td>0.328092</td>\n",
              "      <td>0.371069</td>\n",
              "    </tr>\n",
              "    <tr>\n",
              "      <th>2020-11-30</th>\n",
              "      <td>0.371069</td>\n",
              "      <td>0.365828</td>\n",
              "    </tr>\n",
              "  </tbody>\n",
              "</table>\n",
              "</div>"
            ],
            "text/plain": [
              "Province     ONTARIO_DailyHospitalized    Target\n",
              "SummaryDate                                     \n",
              "2020-11-26                    0.372117  0.322851\n",
              "2020-11-27                    0.322851  0.393082\n",
              "2020-11-28                    0.393082  0.328092\n",
              "2020-11-29                    0.328092  0.371069\n",
              "2020-11-30                    0.371069  0.365828"
            ]
          },
          "metadata": {
            "tags": []
          },
          "execution_count": 484
        }
      ]
    },
    {
      "cell_type": "code",
      "metadata": {
        "id": "89pn1PxJdbpi"
      },
      "source": [
        "# Converting Dataframe to numpy arrays\n",
        "F0 = data_new.iloc[:,0].values\n",
        "# F1 = data_new.iloc[:,1].values\n",
        "# F2 = data_new.iloc[:,2].values\n",
        "# F3 = data_new.iloc[:,3].values\n",
        "# F4 = data_new.iloc[:,4].values\n",
        "# F5 = data_new.iloc[:,5].values\n",
        "\n",
        "# F6 = data_new.iloc[:,6].values\n",
        "# F7 = data_new.iloc[:,7].values\n",
        "#F8 = data_new.iloc[:,8].values\n",
        "# F9 = data_new.iloc[:,9].values\n",
        "# F10 = data_new.iloc[:,10].values\n",
        "# F11 = data_new.iloc[:,11].values\n",
        "# F12 = data_new.iloc[:,12].values\n",
        "# F13= data_new.iloc[:,13].values\n",
        "\n",
        "\n",
        "\n",
        "Target = data_new.iloc[:,1].values\n",
        "\n"
      ],
      "execution_count": null,
      "outputs": []
    },
    {
      "cell_type": "code",
      "metadata": {
        "colab": {
          "base_uri": "https://localhost:8080/"
        },
        "id": "JCVP4F07dsoU",
        "outputId": "276e3582-40f0-4cb7-951a-973052238b9d"
      },
      "source": [
        "from numpy import array\n",
        "from numpy import hstack\n",
        "\n",
        "# split a multivariate sequence into samples (Black Box)\n",
        "def split_sequences(sequences, n_steps_in, n_steps_out):\n",
        "\tX, y = list(), list()\n",
        "\tfor i in range(len(sequences)):\n",
        "\t\t# find the end of this pattern\n",
        "\t\tend_ix = i + n_steps_in\n",
        "\t\tout_end_ix = end_ix + n_steps_out-1\n",
        "\t\t# check if we are beyond the dataset\n",
        "\t\tif out_end_ix > len(sequences):\n",
        "\t\t\tbreak\n",
        "\t\t# gather input and output parts of the pattern\n",
        "\t\tseq_x, seq_y = sequences[i:end_ix, :-1], sequences[end_ix-1:out_end_ix, -1]\n",
        "\t\tX.append(seq_x)\n",
        "\t\ty.append(seq_y)\n",
        "\treturn array(X), array(y)\n",
        "\n",
        "\n",
        "# convert to [rows, columns] structure so it can be fed into LSTM model\n",
        "F0 = F0.reshape((len(F0), 1))\n",
        "# F1 = F1.reshape((len(F1), 1))\n",
        "# F2 = F2.reshape((len(F2), 1))\n",
        "# F3 = F3.reshape((len(F3), 1))\n",
        "# F4 = F2.reshape((len(F4), 1))\n",
        "# F5 = F2.reshape((len(F5), 1))\n",
        "\n",
        "# F6 = F0.reshape((len(F6), 1))\n",
        "# F7 = F1.reshape((len(F7), 1))\n",
        "# F8 = F2.reshape((len(F8), 1))\n",
        "# F9 = F3.reshape((len(F9), 1))\n",
        "# F10 = F2.reshape((len(F10), 1))\n",
        "# F11 = F2.reshape((len(F11), 1))\n",
        "# F12 = F2.reshape((len(F12), 1))\n",
        "# F13 = F2.reshape((len(F13), 1))\n",
        "\n",
        "Target = Target.reshape((len(Target), 1))\n",
        "\n",
        "# horizontally stack columns\n",
        "dataset = hstack((F0, Target))\n",
        "# dataset = hstack((F0, F1, F2, Target))\n",
        "\n",
        "n_steps_in, n_steps_out = 30,7\n",
        "\n",
        "# covert into input/output\n",
        "X, y = split_sequences(dataset, n_steps_in, n_steps_out)\n",
        "print(X.shape, y.shape)\n",
        "\n",
        "n_features = X.shape[2]\n",
        "\n",
        "\n",
        "# Split X and y into train, test \n",
        "# train = 65\n",
        "# val = 25\n",
        "# test = 10\n",
        "\n",
        "x_train,x_test,y_train,y_test = train_test_split(X, y, test_size=0.20, shuffle=False) \n",
        "x_train, x_val, y_train, y_val = train_test_split(x_train, y_train, test_size=0.20, shuffle=False)"
      ],
      "execution_count": null,
      "outputs": [
        {
          "output_type": "stream",
          "text": [
            "(276, 30, 1) (276, 7)\n"
          ],
          "name": "stdout"
        }
      ]
    },
    {
      "cell_type": "code",
      "metadata": {
        "colab": {
          "base_uri": "https://localhost:8080/"
        },
        "id": "0epAXTwXeIcA",
        "outputId": "e8090ace-2c71-489d-8b53-12c5600c87fe"
      },
      "source": [
        "print(x_train.shape, y_train.shape, x_val.shape, y_val.shape, x_test.shape, y_test.shape)\n"
      ],
      "execution_count": null,
      "outputs": [
        {
          "output_type": "stream",
          "text": [
            "(176, 30, 1) (176, 7) (45, 30, 1) (45, 7) (56, 30, 1) (56, 7)\n"
          ],
          "name": "stdout"
        }
      ]
    },
    {
      "cell_type": "markdown",
      "metadata": {
        "id": "uKtSXHMyKD9i"
      },
      "source": [
        "### LSTM build and predict"
      ]
    },
    {
      "cell_type": "code",
      "metadata": {
        "id": "SE-G6gwpeU9R"
      },
      "source": [
        "def build_model(units_lstm, n_steps_in, n_steps_out, n_features, ep, x_train, y_train, x_val, y_val, shuff):\n",
        "  model = Sequential()\n",
        "  model.add(LSTM(units_lstm, activation='relu', input_shape=(n_steps_in, n_features)))\n",
        "  model.add(Dropout(0.4))\n",
        "  model.add(Dense(n_steps_out))\n",
        "  model.compile(optimizer='adam', loss='mse')\n",
        "  # Fitting the RNN to the Training set\n",
        "  history = model.fit(x_train, y_train, epochs=ep, validation_data=(x_val, y_val), shuffle=shuff, verbose=1)\n",
        "  return model, history"
      ],
      "execution_count": null,
      "outputs": []
    },
    {
      "cell_type": "code",
      "metadata": {
        "id": "vqT5yVT_pygX"
      },
      "source": [
        "def build_model_2layer(units_lstm, n_steps_in, n_steps_out, n_features, ep, x_train, y_train, x_val, y_val, shuff):\n",
        "  model = Sequential()\n",
        "  model.add(LSTM(100, activation='relu', return_sequences=True, input_shape=(n_steps_in, n_features)))\n",
        "  model.add(LSTM(100, activation='relu'))\n",
        "  model.add(Dropout(0.4))\n",
        "  model.add(Dense(n_steps_out))\n",
        "  model.compile(optimizer='adam', loss='mse')\n",
        "  # Fitting the RNN to the Training set\n",
        "  #history = model.fit(x_train, y_train, epochs=75, verbose=1, )\n",
        "  history = model.fit(x_train, y_train, epochs=ep, validation_data=(x_val, y_val), shuffle=shuff, verbose=0)\n",
        "  return model, history"
      ],
      "execution_count": null,
      "outputs": []
    },
    {
      "cell_type": "code",
      "metadata": {
        "id": "-DJGG_nneKlX"
      },
      "source": [
        "def model_predict(model, n_steps_in, n_features, x_test):\n",
        "  yhat = np.zeros((len(x_test),7))\n",
        "  #print(y_test.shape)\n",
        "  for x in range(0,len(x_test)):\n",
        "    x_input = x_test[x,:,:]\n",
        "    yhat[x,:] = model.predict(x_input.reshape((1, n_steps_in, n_features)), verbose=0)\n",
        "  return yhat\n"
      ],
      "execution_count": null,
      "outputs": []
    },
    {
      "cell_type": "code",
      "metadata": {
        "id": "426j1SWoeNUK",
        "colab": {
          "base_uri": "https://localhost:8080/"
        },
        "outputId": "fb7dec3b-3607-42ce-cca4-8a18625d1694"
      },
      "source": [
        "[model_covid, history_covid] = build_model(64, n_steps_in, n_steps_out, n_features, 60, x_train, y_train, x_val, y_val, shuff= False)"
      ],
      "execution_count": null,
      "outputs": [
        {
          "output_type": "stream",
          "text": [
            "WARNING:tensorflow:Layer lstm_98 will not use cuDNN kernel since it doesn't meet the cuDNN kernel criteria. It will use generic GPU kernel as fallback when running on GPU\n",
            "Epoch 1/60\n",
            "7/7 [==============================] - 0s 61ms/step - loss: 0.1141 - val_loss: 0.0967\n",
            "Epoch 2/60\n",
            "7/7 [==============================] - 0s 43ms/step - loss: 0.0843 - val_loss: 0.0647\n",
            "Epoch 3/60\n",
            "7/7 [==============================] - 0s 40ms/step - loss: 0.0518 - val_loss: 0.0218\n",
            "Epoch 4/60\n",
            "7/7 [==============================] - 0s 37ms/step - loss: 0.0310 - val_loss: 0.0092\n",
            "Epoch 5/60\n",
            "7/7 [==============================] - 0s 40ms/step - loss: 0.0207 - val_loss: 0.0099\n",
            "Epoch 6/60\n",
            "7/7 [==============================] - 0s 37ms/step - loss: 0.0167 - val_loss: 0.0033\n",
            "Epoch 7/60\n",
            "7/7 [==============================] - 0s 38ms/step - loss: 0.0140 - val_loss: 0.0026\n",
            "Epoch 8/60\n",
            "7/7 [==============================] - 0s 37ms/step - loss: 0.0123 - val_loss: 0.0046\n",
            "Epoch 9/60\n",
            "7/7 [==============================] - 0s 39ms/step - loss: 0.0104 - val_loss: 0.0028\n",
            "Epoch 10/60\n",
            "7/7 [==============================] - 0s 58ms/step - loss: 0.0112 - val_loss: 0.0030\n",
            "Epoch 11/60\n",
            "7/7 [==============================] - 0s 46ms/step - loss: 0.0108 - val_loss: 0.0038\n",
            "Epoch 12/60\n",
            "7/7 [==============================] - 0s 36ms/step - loss: 0.0104 - val_loss: 0.0029\n",
            "Epoch 13/60\n",
            "7/7 [==============================] - 0s 42ms/step - loss: 0.0093 - val_loss: 0.0027\n",
            "Epoch 14/60\n",
            "7/7 [==============================] - 0s 38ms/step - loss: 0.0098 - val_loss: 0.0025\n",
            "Epoch 15/60\n",
            "7/7 [==============================] - 0s 53ms/step - loss: 0.0100 - val_loss: 0.0028\n",
            "Epoch 16/60\n",
            "7/7 [==============================] - 0s 58ms/step - loss: 0.0092 - val_loss: 0.0034\n",
            "Epoch 17/60\n",
            "7/7 [==============================] - 0s 38ms/step - loss: 0.0088 - val_loss: 0.0026\n",
            "Epoch 18/60\n",
            "7/7 [==============================] - 0s 39ms/step - loss: 0.0086 - val_loss: 0.0024\n",
            "Epoch 19/60\n",
            "7/7 [==============================] - 0s 39ms/step - loss: 0.0087 - val_loss: 0.0024\n",
            "Epoch 20/60\n",
            "7/7 [==============================] - 0s 38ms/step - loss: 0.0092 - val_loss: 0.0023\n",
            "Epoch 21/60\n",
            "7/7 [==============================] - 0s 46ms/step - loss: 0.0092 - val_loss: 0.0028\n",
            "Epoch 22/60\n",
            "7/7 [==============================] - 0s 41ms/step - loss: 0.0083 - val_loss: 0.0024\n",
            "Epoch 23/60\n",
            "7/7 [==============================] - 0s 39ms/step - loss: 0.0079 - val_loss: 0.0022\n",
            "Epoch 24/60\n",
            "7/7 [==============================] - 0s 38ms/step - loss: 0.0079 - val_loss: 0.0023\n",
            "Epoch 25/60\n",
            "7/7 [==============================] - 0s 40ms/step - loss: 0.0079 - val_loss: 0.0021\n",
            "Epoch 26/60\n",
            "7/7 [==============================] - 0s 41ms/step - loss: 0.0073 - val_loss: 0.0021\n",
            "Epoch 27/60\n",
            "7/7 [==============================] - 0s 39ms/step - loss: 0.0073 - val_loss: 0.0027\n",
            "Epoch 28/60\n",
            "7/7 [==============================] - 0s 39ms/step - loss: 0.0074 - val_loss: 0.0028\n",
            "Epoch 29/60\n",
            "7/7 [==============================] - 0s 39ms/step - loss: 0.0080 - val_loss: 0.0018\n",
            "Epoch 30/60\n",
            "7/7 [==============================] - 0s 42ms/step - loss: 0.0071 - val_loss: 0.0022\n",
            "Epoch 31/60\n",
            "7/7 [==============================] - 0s 40ms/step - loss: 0.0073 - val_loss: 0.0024\n",
            "Epoch 32/60\n",
            "7/7 [==============================] - 0s 41ms/step - loss: 0.0068 - val_loss: 0.0027\n",
            "Epoch 33/60\n",
            "7/7 [==============================] - 0s 39ms/step - loss: 0.0069 - val_loss: 0.0027\n",
            "Epoch 34/60\n",
            "7/7 [==============================] - 0s 46ms/step - loss: 0.0069 - val_loss: 0.0021\n",
            "Epoch 35/60\n",
            "7/7 [==============================] - 0s 55ms/step - loss: 0.0066 - val_loss: 0.0019\n",
            "Epoch 36/60\n",
            "7/7 [==============================] - 0s 54ms/step - loss: 0.0064 - val_loss: 0.0023\n",
            "Epoch 37/60\n",
            "7/7 [==============================] - 0s 42ms/step - loss: 0.0061 - val_loss: 0.0020\n",
            "Epoch 38/60\n",
            "7/7 [==============================] - 0s 39ms/step - loss: 0.0065 - val_loss: 0.0022\n",
            "Epoch 39/60\n",
            "7/7 [==============================] - 0s 42ms/step - loss: 0.0062 - val_loss: 0.0024\n",
            "Epoch 40/60\n",
            "7/7 [==============================] - 0s 41ms/step - loss: 0.0062 - val_loss: 0.0021\n",
            "Epoch 41/60\n",
            "7/7 [==============================] - 0s 44ms/step - loss: 0.0057 - val_loss: 0.0021\n",
            "Epoch 42/60\n",
            "7/7 [==============================] - 0s 40ms/step - loss: 0.0066 - val_loss: 0.0023\n",
            "Epoch 43/60\n",
            "7/7 [==============================] - 0s 38ms/step - loss: 0.0061 - val_loss: 0.0025\n",
            "Epoch 44/60\n",
            "7/7 [==============================] - 0s 38ms/step - loss: 0.0059 - val_loss: 0.0020\n",
            "Epoch 45/60\n",
            "7/7 [==============================] - 0s 42ms/step - loss: 0.0060 - val_loss: 0.0025\n",
            "Epoch 46/60\n",
            "7/7 [==============================] - 0s 38ms/step - loss: 0.0060 - val_loss: 0.0021\n",
            "Epoch 47/60\n",
            "7/7 [==============================] - 0s 43ms/step - loss: 0.0061 - val_loss: 0.0021\n",
            "Epoch 48/60\n",
            "7/7 [==============================] - 0s 41ms/step - loss: 0.0056 - val_loss: 0.0024\n",
            "Epoch 49/60\n",
            "7/7 [==============================] - 0s 40ms/step - loss: 0.0064 - val_loss: 0.0020\n",
            "Epoch 50/60\n",
            "7/7 [==============================] - 0s 37ms/step - loss: 0.0059 - val_loss: 0.0021\n",
            "Epoch 51/60\n",
            "7/7 [==============================] - 0s 39ms/step - loss: 0.0056 - val_loss: 0.0019\n",
            "Epoch 52/60\n",
            "7/7 [==============================] - 0s 43ms/step - loss: 0.0057 - val_loss: 0.0021\n",
            "Epoch 53/60\n",
            "7/7 [==============================] - 0s 41ms/step - loss: 0.0058 - val_loss: 0.0021\n",
            "Epoch 54/60\n",
            "7/7 [==============================] - 0s 38ms/step - loss: 0.0055 - val_loss: 0.0021\n",
            "Epoch 55/60\n",
            "7/7 [==============================] - 0s 39ms/step - loss: 0.0054 - val_loss: 0.0022\n",
            "Epoch 56/60\n",
            "7/7 [==============================] - 0s 38ms/step - loss: 0.0055 - val_loss: 0.0020\n",
            "Epoch 57/60\n",
            "7/7 [==============================] - 0s 39ms/step - loss: 0.0056 - val_loss: 0.0020\n",
            "Epoch 58/60\n",
            "7/7 [==============================] - 0s 43ms/step - loss: 0.0055 - val_loss: 0.0024\n",
            "Epoch 59/60\n",
            "7/7 [==============================] - 0s 51ms/step - loss: 0.0054 - val_loss: 0.0022\n",
            "Epoch 60/60\n",
            "7/7 [==============================] - 0s 40ms/step - loss: 0.0052 - val_loss: 0.0021\n"
          ],
          "name": "stdout"
        }
      ]
    },
    {
      "cell_type": "code",
      "metadata": {
        "id": "dWTNBoGtfo1f"
      },
      "source": [
        "def plot_model(history):  \n",
        "  # plot train and validation loss\n",
        "  pyplot.plot(history.history['loss'][:])\n",
        "  pyplot.plot(history.history['val_loss'][:])\n",
        "  pyplot.title('model train vs validation loss')\n",
        "  pyplot.ylabel('loss')\n",
        "  pyplot.xlabel('epoch')\n",
        "  pyplot.legend(['train', 'validation'], loc='upper right')\n",
        "\n",
        "  pyplot.show()"
      ],
      "execution_count": null,
      "outputs": []
    },
    {
      "cell_type": "code",
      "metadata": {
        "id": "gdii2OaUdyl9"
      },
      "source": [
        "from matplotlib import pyplot as pyplot"
      ],
      "execution_count": null,
      "outputs": []
    },
    {
      "cell_type": "code",
      "metadata": {
        "colab": {
          "base_uri": "https://localhost:8080/",
          "height": 295
        },
        "id": "P3d7uzjsfr9Y",
        "outputId": "edfe0fff-f7cd-462b-dfc6-7074d08f465f"
      },
      "source": [
        "plot_model(history_covid)"
      ],
      "execution_count": null,
      "outputs": [
        {
          "output_type": "display_data",
          "data": {
            "image/png": "[encoded data removed]",
            "text/plain": [
              "<Figure size 432x288 with 1 Axes>"
            ]
          },
          "metadata": {
            "tags": [],
            "needs_background": "light"
          }
        }
      ]
    },
    {
      "cell_type": "code",
      "metadata": {
        "id": "xGoLJmlhfu2y"
      },
      "source": [
        "# predict the test set \r\n",
        "yhat = model_predict(model_covid, n_steps_in, n_features, x_test)"
      ],
      "execution_count": null,
      "outputs": []
    },
    {
      "cell_type": "code",
      "metadata": {
        "colab": {
          "base_uri": "https://localhost:8080/"
        },
        "id": "QFuCMTipf145",
        "outputId": "83af1f59-9fb5-484f-f89d-5c978113bdd5"
      },
      "source": [
        "# MSE\n",
        "from sklearn.metrics import mean_squared_error \n",
        "print(mean_squared_error(y_test,yhat))"
      ],
      "execution_count": null,
      "outputs": [
        {
          "output_type": "stream",
          "text": [
            "0.004972956858730325\n"
          ],
          "name": "stdout"
        }
      ]
    },
    {
      "cell_type": "code",
      "metadata": {
        "colab": {
          "base_uri": "https://localhost:8080/"
        },
        "id": "Mx67T5Fy02j1",
        "outputId": "08b5b4da-b12e-4369-b143-52bcf4d2000e"
      },
      "source": [
        "# RMSE\n",
        "rmse = sqrt(mean_squared_error(y_test, yhat))\n",
        "print(rmse)"
      ],
      "execution_count": null,
      "outputs": [
        {
          "output_type": "stream",
          "text": [
            "0.11084642218353369\n"
          ],
          "name": "stdout"
        }
      ]
    },
    {
      "cell_type": "code",
      "metadata": {
        "id": "jnl5FnkaCXYJ"
      },
      "source": [
        "def plot_results(y_test, yhat):  \n",
        "  # plot train and validation loss\n",
        "  pred = np.zeros(len(yhat))\n",
        "  for x in range(0, len(yhat)):\n",
        "    pred[x] = ((1/n_steps_out)*sum((np.abs((yhat[x,:])))))\n",
        "  pyplot.plot(pred[:])\n",
        "  pyplot.plot(Target[int(len(Target)-len(yhat)):])\n",
        "  pyplot.title('Actual vs Prediction')\n",
        "  pyplot.ylabel('DailyTotals')\n",
        "  pyplot.xlabel('Day')\n",
        "  pyplot.legend(['Pred', 'Act'], loc='upper right')\n",
        "\n",
        "  pyplot.show()\n"
      ],
      "execution_count": null,
      "outputs": []
    },
    {
      "cell_type": "code",
      "metadata": {
        "colab": {
          "base_uri": "https://localhost:8080/",
          "height": 295
        },
        "id": "BeC5t8vlimGT",
        "outputId": "de7dd5da-c832-4fac-8077-69c99f14e3bd"
      },
      "source": [
        "# plot the prediction versus actual \r\n",
        "plot_results(y_test, yhat)"
      ],
      "execution_count": null,
      "outputs": [
        {
          "output_type": "display_data",
          "data": {
            "image/png": "[encoded data removed]",
            "text/plain": [
              "<Figure size 432x288 with 1 Axes>"
            ]
          },
          "metadata": {
            "tags": [],
            "needs_background": "light"
          }
        }
      ]
    },
    {
      "cell_type": "code",
      "metadata": {
        "colab": {
          "base_uri": "https://localhost:8080/",
          "height": 458
        },
        "id": "fjXpeYFqScW5",
        "outputId": "2653bf02-12e3-4576-9f29-575bf7a0107a"
      },
      "source": [
        "df = data_new['ONTARIO_DailyHospitalized']\n",
        "pyplot.figure(figsize=(15,7))\n",
        "pyplot.plot(df[:])\n",
        "pyplot.title('ONTARIO_DailyHospitalized')\n",
        "pyplot.ylabel('DailyTotals')\n",
        "pyplot.xlabel('Month')\n",
        "\n",
        "pyplot.show()"
      ],
      "execution_count": null,
      "outputs": [
        {
          "output_type": "display_data",
          "data": {
            "image/png": "[encoded data removed]",
            "text/plain": [
              "<Figure size 1080x504 with 1 Axes>"
            ]
          },
          "metadata": {
            "tags": [],
            "needs_background": "light"
          }
        }
      ]
    },
    {
      "cell_type": "code",
      "metadata": {
        "id": "fKorEDLaeofd"
      },
      "source": [
        "# MAPE\n",
        "def mape_error(y_test, yhat):\n",
        "  mape = np.zeros(len(yhat))\n",
        "  for x in range(0, len(yhat)):\n",
        "    mape[x] = ((1/n_steps_out)*sum((np.abs((y_test[x,:] - yhat[x,:])/y_test[x,:]))))*100\n",
        "  print(\"Min MAPE %:\")\n",
        "  print(min(mape))\n",
        "  print(\"Mean MAPE %:\")\n",
        "  print(sum(mape)/len(y_test))\n",
        "  print(\"Median MAPE %:\")\n",
        "  print(statistics.median(mape))\n",
        "  print(\"Max MAPE %:\")\n",
        "  print(max(mape))\n",
        "  return mape\n"
      ],
      "execution_count": null,
      "outputs": []
    },
    {
      "cell_type": "code",
      "metadata": {
        "colab": {
          "base_uri": "https://localhost:8080/"
        },
        "id": "u_wnqE10eyzP",
        "outputId": "236abbec-e8b9-4efa-9114-23466915e207"
      },
      "source": [
        "mape = mape_error(y_test, yhat)"
      ],
      "execution_count": null,
      "outputs": [
        {
          "output_type": "stream",
          "text": [
            "Min MAPE %:\n",
            "3.9543106247216233\n",
            "Mean MAPE %:\n",
            "inf\n",
            "Median MAPE %:\n",
            "6.1621972437598895\n",
            "Max MAPE %:\n",
            "inf\n"
          ],
          "name": "stdout"
        },
        {
          "output_type": "stream",
          "text": [
            "/usr/local/lib/python3.6/dist-packages/ipykernel_launcher.py:5: RuntimeWarning: divide by zero encountered in true_divide\n",
            "  \"\"\"\n"
          ],
          "name": "stderr"
        }
      ]
    },
    {
      "cell_type": "markdown",
      "metadata": {
        "id": "-hYJCaniKRAU"
      },
      "source": [
        "### Multi step CNN "
      ]
    },
    {
      "cell_type": "code",
      "metadata": {
        "id": "A43V28m-PTru"
      },
      "source": [
        "from numpy import array\n",
        "from numpy import hstack\n",
        "from keras.models import Sequential\n",
        "from keras.layers import Dense\n",
        "from keras.layers import Flatten\n",
        "from keras.layers.convolutional import Conv1D\n",
        "from keras.layers.convolutional import MaxPooling1D"
      ],
      "execution_count": null,
      "outputs": []
    },
    {
      "cell_type": "code",
      "metadata": {
        "id": "oceUWpxNMOUl"
      },
      "source": [
        "def build_model_CNN(units_cnn, n_steps_in, n_steps_out, n_features, ep, x_train, y_train, x_val, y_val, shuff):\n",
        "\n",
        "  model = Sequential()\n",
        "  model.add(Conv1D(filters=units_cnn, kernel_size=2, activation='relu', input_shape=(n_steps_in, n_features)))\n",
        "  model.add(MaxPooling1D(pool_size=2))\n",
        "  model.add(Flatten())\n",
        "  model.add(Dense(50, activation='relu'))\n",
        "  model.add(Dense(n_steps_out))\n",
        "  model.compile(optimizer='adam', loss='mse')\n",
        "\n",
        "  # Fitting the RNN to the Training set\n",
        "  history = model.fit(x_train, y_train, epochs=ep, validation_data=(x_val, y_val), shuffle=shuff, verbose=0)\n",
        "  return model, history"
      ],
      "execution_count": null,
      "outputs": []
    },
    {
      "cell_type": "code",
      "metadata": {
        "id": "BqyR-TrlKQej"
      },
      "source": [
        "def model_predict_CNN(model, n_steps_in, n_features, x_test):\n",
        "  yhat = np.zeros((len(x_test),7))\n",
        "  #print(y_test.shape)\n",
        "  for x in range(0,len(x_test)):\n",
        "    x_input = x_test[x,:,:]\n",
        "    yhat[x,:] = model.predict(x_input.reshape((1, n_steps_in, n_features)), verbose=0)\n",
        "  return yhat"
      ],
      "execution_count": null,
      "outputs": []
    },
    {
      "cell_type": "code",
      "metadata": {
        "id": "pXMQw1-NNVSI"
      },
      "source": [
        "[model_CNN, history_CNN] = build_model_CNN (64, n_steps_in, n_steps_out, n_features, 60, x_train, y_train, x_val, y_val, shuff= False)"
      ],
      "execution_count": null,
      "outputs": []
    },
    {
      "cell_type": "code",
      "metadata": {
        "id": "38t5yOxmNVhJ"
      },
      "source": [
        "yhat = model_predict(model_CNN, n_steps_in, n_features, x_test)"
      ],
      "execution_count": null,
      "outputs": []
    },
    {
      "cell_type": "code",
      "metadata": {
        "colab": {
          "base_uri": "https://localhost:8080/"
        },
        "id": "mLo2kWvXPcW-",
        "outputId": "78e422c3-6a05-43b6-be08-bc1385cd5ef8"
      },
      "source": [
        "mape = mape_error(y_test, yhat)"
      ],
      "execution_count": null,
      "outputs": [
        {
          "output_type": "stream",
          "text": [
            "Min MAPE %:\n",
            "1.8158567772255922\n",
            "Mean MAPE %:\n",
            "inf\n",
            "Median MAPE %:\n",
            "5.7891869089073555\n",
            "Max MAPE %:\n",
            "inf\n"
          ],
          "name": "stdout"
        },
        {
          "output_type": "stream",
          "text": [
            "/usr/local/lib/python3.6/dist-packages/ipykernel_launcher.py:5: RuntimeWarning: divide by zero encountered in true_divide\n",
            "  \"\"\"\n"
          ],
          "name": "stderr"
        }
      ]
    },
    {
      "cell_type": "code",
      "metadata": {
        "colab": {
          "base_uri": "https://localhost:8080/"
        },
        "id": "qnVLYPbRXGBj",
        "outputId": "0691325b-2ae2-4be8-d8db-22a4e6df09fc"
      },
      "source": [
        "# MSE\n",
        "print(mean_squared_error(y_test,yhat))"
      ],
      "execution_count": null,
      "outputs": [
        {
          "output_type": "stream",
          "text": [
            "0.0046113645081409865\n"
          ],
          "name": "stdout"
        }
      ]
    },
    {
      "cell_type": "markdown",
      "metadata": {
        "id": "W3rRxE-32giJ"
      },
      "source": [
        "### ARIMA model"
      ]
    },
    {
      "cell_type": "code",
      "metadata": {
        "id": "2oIz90XW2i5U"
      },
      "source": [
        "import numpy as np \n",
        "import pandas as pd \n",
        "import matplotlib.pyplot as plt\n",
        "from pandas.plotting import lag_plot\n",
        "from pandas import datetime\n",
        "from statsmodels.tsa.arima_model import ARIMA\n",
        "from sklearn.metrics import mean_squared_error"
      ],
      "execution_count": null,
      "outputs": []
    },
    {
      "cell_type": "code",
      "metadata": {
        "id": "J-jxnKo83Lpw"
      },
      "source": [
        "df = data_new[['ONTARIO_DailyHospitalized']]"
      ],
      "execution_count": null,
      "outputs": []
    },
    {
      "cell_type": "code",
      "metadata": {
        "id": "xGwZGyvE4Jwo"
      },
      "source": [
        "# MAPE\n",
        "def mape_arima(y_test, yhat):\n",
        "  mape = np.zeros(len(yhat))\n",
        "  for x in range(0, len(yhat)):\n",
        "    mape[x] = (sum((np.abs((y_test[x] - yhat[x])/y_test[x]))))*100\n",
        "\n",
        "  print(\"Min MAPE %:\")\n",
        "  print(min(mape))\n",
        "  print(\"Mean MAPE %:\")\n",
        "  print(sum(mape)/len(y_test))\n",
        "  print(\"Median MAPE %:\")\n",
        "  print(statistics.median(mape))\n",
        "  print(\"Max MAPE %:\")\n",
        "  print(max(mape))\n",
        "  return mape"
      ],
      "execution_count": null,
      "outputs": []
    },
    {
      "cell_type": "code",
      "metadata": {
        "id": "IAAoaJo82peR"
      },
      "source": [
        "\n",
        "train_data, test_data = df[0:int(len(df)*0.80)], df[int(len(df)*0.80):]\n",
        "training_data = train_data['ONTARIO_DailyHospitalized'].values\n",
        "test_data = test_data['ONTARIO_DailyHospitalized'].values\n",
        "\n",
        "history = [x for x in training_data]\n",
        "model_predictions = []\n",
        "N_test_observations = len(test_data)\n",
        "for time_point in range(N_test_observations):\n",
        "    model = ARIMA(history, order=(4,1,0))\n",
        "    model_fit = model.fit(disp=0)\n",
        "    output = model_fit.forecast()\n",
        "    yhat = output[0]\n",
        "    model_predictions.append(yhat)\n",
        "    true_test_value = test_data[time_point]\n",
        "    history.append(true_test_value)\n",
        "\n",
        "# MSE_error = mean_squared_error(test_data, model_predictions)\n",
        "# error_ARIMA_df = pd.DataFrame(data = MSE_error)\n",
        "# MAPE_arima = mape_arima(test_data, model_predictions)\n",
        "# MED_MAPE_ARIMA_df = pd.DataFrame(statistics.median(MAPE_arima))\n",
        "  \n",
        "  # print('Testing Mean Squared Error is {}'.format(MSE_error))"
      ],
      "execution_count": null,
      "outputs": []
    },
    {
      "cell_type": "code",
      "metadata": {
        "id": "Z_o1Upni36Yz",
        "colab": {
          "base_uri": "https://localhost:8080/"
        },
        "outputId": "ece1ddfe-5bcb-48c5-ada0-c9105e5999a2"
      },
      "source": [
        "import numpy as np\n",
        "\n",
        "MAPE_arima = mape_arima(test_data, model_predictions)\n",
        "MED_MAPE_ARIMA = np.array([statistics.median(MAPE_arima)])\n",
        "MED_MAPE_ARIMA_df = pd.DataFrame(MED_MAPE_ARIMA)\n",
        "\n",
        "MSE_error = mean_squared_error(test_data, model_predictions)\n",
        "MSE_error = np.array([MSE_error])\n",
        "error_ARIMA_df = pd.DataFrame(MSE_error)"
      ],
      "execution_count": null,
      "outputs": [
        {
          "output_type": "stream",
          "text": [
            "Min MAPE %:\n",
            "0.04820402100394462\n",
            "Mean MAPE %:\n",
            "inf\n",
            "Median MAPE %:\n",
            "4.014368910827957\n",
            "Max MAPE %:\n",
            "inf\n"
          ],
          "name": "stdout"
        },
        {
          "output_type": "stream",
          "text": [
            "/usr/local/lib/python3.6/dist-packages/ipykernel_launcher.py:5: RuntimeWarning: divide by zero encountered in true_divide\n",
            "  \"\"\"\n"
          ],
          "name": "stderr"
        }
      ]
    },
    {
      "cell_type": "code",
      "metadata": {
        "id": "c5msD1Ui95ZL"
      },
      "source": [
        "def plot_arima(y_test, yhat):  \n",
        "  # plot train and validation loss\n",
        "\n",
        "  pyplot.plot(yhat[:])\n",
        "  pyplot.plot(y_test[:])\n",
        "  pyplot.title('Actual vs Prediction')\n",
        "  pyplot.ylabel('DailyTotals')\n",
        "  pyplot.xlabel('Day')\n",
        "  pyplot.legend(['Pred', 'Act'], loc='upper right')\n",
        "\n",
        "  pyplot.show()\n"
      ],
      "execution_count": null,
      "outputs": []
    },
    {
      "cell_type": "code",
      "metadata": {
        "colab": {
          "base_uri": "https://localhost:8080/"
        },
        "id": "-ry_9Bcj-IDG",
        "outputId": "eb85dd0c-bf87-4b0a-8399-84439a3c6c9a"
      },
      "source": [
        "plot_arima(test_data, model_predictions)"
      ],
      "execution_count": null,
      "outputs": [
        {
          "output_type": "display_data",
          "data": {
            "image/png": "[encoded data removed]",
            "text/plain": [
              "<Figure size 432x288 with 1 Axes>"
            ]
          },
          "metadata": {
            "tags": [],
            "needs_background": "light"
          }
        }
      ]
    },
    {
      "cell_type": "markdown",
      "metadata": {
        "id": "ISlg5q29KLKT"
      },
      "source": [
        "## Sensitivity Analysis"
      ]
    },
    {
      "cell_type": "code",
      "metadata": {
        "id": "ozMH-jAgKOMX"
      },
      "source": [
        "error_LSTM_sens = [0 for i in range(5)] \n",
        "MAPE_LSTM_sens = [0 for i in range(5)] \n",
        " \n",
        "from sklearn.metrics import mean_squared_error \n",
        "\n",
        "\n",
        "[model_covid, history_covid] = build_model(64, n_steps_in, n_steps_out, n_features, 80, x_train, y_train, x_val, y_val, shuff= False)\n",
        "yhat_LSTM = model_predict(model_covid, n_steps_in, n_features, x_test)\n",
        "# LSTM MSE\n",
        "error_LSTM_sens[0] = mean_squared_error(y_test,yhat_LSTM)\n",
        "# LSTM MED MAPE\n",
        "MAPE_LSTM_sens[0] = mape_error(y_test, yhat_LSTM)\n",
        "\n",
        "# change epochs \n",
        "[model_covid, history_covid] = build_model(64, n_steps_in, n_steps_out, n_features, 60, x_train, y_train, x_val, y_val, shuff= False)\n",
        "yhat_LSTM = model_predict(model_covid, n_steps_in, n_features, x_test)\n",
        "# LSTM MSE\n",
        "error_LSTM_sens[1] = mean_squared_error(y_test,yhat_LSTM)\n",
        "# LSTM MED MAPE\n",
        "MAPE_LSTM_sens[1] = mape_error(y_test, yhat_LSTM)\n",
        "\n",
        "# change untis \n",
        "[model_covid, history_covid] = build_model(50, n_steps_in, n_steps_out, n_features, 80, x_train, y_train, x_val, y_val, shuff= False)\n",
        "yhat_LSTM = model_predict(model_covid, n_steps_in, n_features, x_test)\n",
        "# LSTM MSE\n",
        "error_LSTM_sens[2] = mean_squared_error(y_test,yhat_LSTM)\n",
        "# LSTM MED MAPE\n",
        "MAPE_LSTM_sens[2] = mape_error(y_test, yhat_LSTM)\n",
        "\n",
        "# change layers \n",
        "[model_covid, history_covid] = build_model_2layer(64, n_steps_in, n_steps_out, n_features, 80, x_train, y_train, x_val, y_val, shuff= False)\n",
        "yhat_LSTM = model_predict(model_covid, n_steps_in, n_features, x_test)\n",
        "# LSTM MSE\n",
        "error_LSTM_sens[3] = mean_squared_error(y_test,yhat_LSTM)\n",
        "# LSTM MED MAPE\n",
        "MAPE_LSTM_sens[3] = mape_error(y_test, yhat_LSTM)\n",
        "\n",
        "\n",
        "# change layers and epochs \n",
        "[model_covid, history_covid] = build_model_2layer(64, n_steps_in, n_steps_out, n_features, 60, x_train, y_train, x_val, y_val, shuff= False)\n",
        "yhat_LSTM = model_predict(model_covid, n_steps_in, n_features, x_test)\n",
        "# LSTM MSE\n",
        "error_LSTM_sens[4] = mean_squared_error(y_test,yhat_LSTM)\n",
        "# LSTM MED MAPE\n",
        "MAPE_LSTM_sens[4] = mape_error(y_test, yhat_LSTM)\n"
      ],
      "execution_count": null,
      "outputs": []
    },
    {
      "cell_type": "code",
      "metadata": {
        "id": "wklzvLC4Ofiv"
      },
      "source": [
        "error_LSTM_df_sens = pd.DataFrame(error_LSTM)"
      ],
      "execution_count": null,
      "outputs": []
    },
    {
      "cell_type": "code",
      "metadata": {
        "id": "o_1aF09NRnZo"
      },
      "source": [
        "MED_MAPE_LSTM_sens = [0 for i in range(5)] \n",
        "\n",
        "for i in range(5):\n",
        "  MED_MAPE_LSTM_sens[i] = (statistics.median(MAPE_LSTM_sens[i]))\n",
        "MED_MAPE_LSTM_df_sens = pd.DataFrame(MED_MAPE_LSTM_sens)"
      ],
      "execution_count": null,
      "outputs": []
    },
    {
      "cell_type": "code",
      "metadata": {
        "id": "feKU1BP_OYFl"
      },
      "source": [
        "LSTM_df_sens = pd.concat([error_LSTM_df_sens, MED_MAPE_LSTM_df_sens], axis=1, sort=False)\n",
        "LSTM_df_sens.columns = ['LSTM MSE', 'LSTM MAPE']"
      ],
      "execution_count": null,
      "outputs": []
    },
    {
      "cell_type": "code",
      "metadata": {
        "colab": {
          "base_uri": "https://localhost:8080/",
          "height": 204
        },
        "id": "FRdpO43bP-Jn",
        "outputId": "6a5b93b2-773c-44f5-ef2f-6b1ef459cc3b"
      },
      "source": [
        "LSTM_df_sens.index  = ['1LSTM_64_80', '1LSTM_64_60', '1LSTM_50_80', '2LSTM_64_80', '2LSTM_64_60']\n",
        "LSTM_df_sens"
      ],
      "execution_count": null,
      "outputs": [
        {
          "output_type": "execute_result",
          "data": {
            "text/html": [
              "<div>\n",
              "<style scoped>\n",
              "    .dataframe tbody tr th:only-of-type {\n",
              "        vertical-align: middle;\n",
              "    }\n",
              "\n",
              "    .dataframe tbody tr th {\n",
              "        vertical-align: top;\n",
              "    }\n",
              "\n",
              "    .dataframe thead th {\n",
              "        text-align: right;\n",
              "    }\n",
              "</style>\n",
              "<table border=\"1\" class=\"dataframe\">\n",
              "  <thead>\n",
              "    <tr style=\"text-align: right;\">\n",
              "      <th></th>\n",
              "      <th>LSTM MSE</th>\n",
              "      <th>LSTM MAPE</th>\n",
              "    </tr>\n",
              "  </thead>\n",
              "  <tbody>\n",
              "    <tr>\n",
              "      <th>1LSTM_64_80</th>\n",
              "      <td>0.016533</td>\n",
              "      <td>5.294614</td>\n",
              "    </tr>\n",
              "    <tr>\n",
              "      <th>1LSTM_64_60</th>\n",
              "      <td>0.015752</td>\n",
              "      <td>5.257208</td>\n",
              "    </tr>\n",
              "    <tr>\n",
              "      <th>1LSTM_50_80</th>\n",
              "      <td>0.019694</td>\n",
              "      <td>6.445727</td>\n",
              "    </tr>\n",
              "    <tr>\n",
              "      <th>2LSTM_64_80</th>\n",
              "      <td>0.012031</td>\n",
              "      <td>4.904847</td>\n",
              "    </tr>\n",
              "    <tr>\n",
              "      <th>2LSTM_64_60</th>\n",
              "      <td>0.022288</td>\n",
              "      <td>5.303507</td>\n",
              "    </tr>\n",
              "  </tbody>\n",
              "</table>\n",
              "</div>"
            ],
            "text/plain": [
              "             LSTM MSE  LSTM MAPE\n",
              "1LSTM_64_80  0.016533   5.294614\n",
              "1LSTM_64_60  0.015752   5.257208\n",
              "1LSTM_50_80  0.019694   6.445727\n",
              "2LSTM_64_80  0.012031   4.904847\n",
              "2LSTM_64_60  0.022288   5.303507"
            ]
          },
          "metadata": {
            "tags": []
          },
          "execution_count": 390
        }
      ]
    },
    {
      "cell_type": "markdown",
      "metadata": {
        "id": "JZ0oPGLpPPqa"
      },
      "source": [
        "## Comparative Analysis "
      ]
    },
    {
      "cell_type": "code",
      "metadata": {
        "id": "xFfkuFfGPTA5"
      },
      "source": [
        "error_LSTM = [0 for i in range(5)] \n",
        "error_CNN = [0 for i in range(5)] \n",
        "MAPE_LSTM = [0 for i in range(5)] \n",
        "MAPE_CNN = [0 for i in range(5)] \n",
        "\n",
        "\n",
        "from sklearn.metrics import mean_squared_error \n",
        "\n",
        "\n",
        "for a in range (5):\n",
        "  # BUILD AND PREDICT LSTM\n",
        "  [model_covid, history_covid] = build_model(64, n_steps_in, n_steps_out, n_features, 60, x_train, y_train, x_val, y_val, shuff= False)\n",
        "  yhat_LSTM = model_predict(model_covid, n_steps_in, n_features, x_test)\n",
        "  # LSTM MSE\n",
        "  error_LSTM[a] = mean_squared_error(y_test,yhat_LSTM)\n",
        "  # LSTM MED MAPE\n",
        "  MAPE_LSTM[a] = mape_error(y_test, yhat_LSTM)\n",
        "\n",
        "\n",
        "  #---------------------\n",
        "  # BUILD AND PREDICT CNN\n",
        "  [model_CNN, history_CNN] = build_model_CNN (64, n_steps_in, n_steps_out, n_features, 60, x_train, y_train, x_val, y_val, shuff= False)\n",
        "  yhat_CNN = model_predict(model_CNN, n_steps_in, n_features, x_test)\n",
        "  # CNN MSE\n",
        "  error_CNN[a] = mean_squared_error(y_test,yhat_CNN)\n",
        "  # CNN MED MAPE\n",
        "  MAPE_CNN[a] = mape_error(y_test, yhat_CNN)\n",
        "\n",
        "\n",
        "\n"
      ],
      "execution_count": null,
      "outputs": []
    },
    {
      "cell_type": "code",
      "metadata": {
        "colab": {
          "base_uri": "https://localhost:8080/"
        },
        "id": "-zPfw203RwoJ",
        "outputId": "5db33122-079b-47b8-8051-74052c95d930"
      },
      "source": [
        "MED_MAPE_LSTM = [0 for i in range(5)] \n",
        "MED_MAPE_CNN = [0 for i in range(5)] \n",
        "\n",
        "for i in range(5):\n",
        "  MED_MAPE_LSTM[i] = (statistics.median(MAPE_LSTM[i]))\n",
        "  MED_MAPE_CNN[i] = (statistics.median(MAPE_CNN[i]))\n",
        "print(statistics.mean(error_LSTM))\n",
        "print(statistics.mean(error_CNN))\n",
        "print(statistics.mean(MED_MAPE_LSTM))\n",
        "print(statistics.mean(MED_MAPE_CNN))"
      ],
      "execution_count": null,
      "outputs": [
        {
          "output_type": "stream",
          "text": [
            "0.004904430481779547\n",
            "0.004646436644808772\n",
            "5.959950864565091\n",
            "5.497070774957135\n"
          ],
          "name": "stdout"
        }
      ]
    },
    {
      "cell_type": "markdown",
      "metadata": {
        "id": "ETIDLR91WGVY"
      },
      "source": [
        "Store in dataframes "
      ]
    },
    {
      "cell_type": "code",
      "metadata": {
        "id": "7fvxwAqBVofr"
      },
      "source": [
        "error_LSTM_df = pd.DataFrame(error_LSTM)\n",
        "error_CNN_df = pd.DataFrame(error_CNN)\n",
        "MED_MAPE_LSTM_df = pd.DataFrame(MED_MAPE_LSTM)\n",
        "MED_MAPE_CNN_df = pd.DataFrame(MED_MAPE_CNN)"
      ],
      "execution_count": null,
      "outputs": []
    },
    {
      "cell_type": "code",
      "metadata": {
        "id": "is1kGtF6Fmot"
      },
      "source": [
        "\n",
        "LSTM_df = pd.concat([error_LSTM_df, MED_MAPE_LSTM_df], axis=1, sort=False)\n",
        "LSTM_df.columns = ['LSTM MSE', 'LSTM MAPE']\n",
        "\n",
        "CNN_df = pd.concat([error_CNN_df, MED_MAPE_CNN_df], axis=1, sort=False)\n",
        "CNN_df.columns = ['CNN MSE', 'CNN MAPE']\n",
        "\n",
        "ARIMA_df = pd.concat([error_ARIMA_df, MED_MAPE_ARIMA_df], axis=1, sort=False)\n",
        "ARIMA_df.columns = ['ARIMA MSE', 'ARIMA MAPE']"
      ],
      "execution_count": null,
      "outputs": []
    },
    {
      "cell_type": "code",
      "metadata": {
        "id": "gMtWeEQIWKCF",
        "colab": {
          "base_uri": "https://localhost:8080/"
        },
        "outputId": "3c79750a-6ab2-4624-b15c-91c76d3e3495"
      },
      "source": [
        "pd.set_option(\"display.max_columns\", 10)\n",
        "comparative_analysis = pd.concat([LSTM_df, CNN_df, ARIMA_df],  axis=1, sort=False)\n",
        "comparative_analysis = comparative_analysis.fillna('')\n",
        "comparative_analysis"
      ],
      "execution_count": null,
      "outputs": [
        {
          "output_type": "execute_result",
          "data": {
            "text/html": [
              "<div>\n",
              "<style scoped>\n",
              "    .dataframe tbody tr th:only-of-type {\n",
              "        vertical-align: middle;\n",
              "    }\n",
              "\n",
              "    .dataframe tbody tr th {\n",
              "        vertical-align: top;\n",
              "    }\n",
              "\n",
              "    .dataframe thead th {\n",
              "        text-align: right;\n",
              "    }\n",
              "</style>\n",
              "<table border=\"1\" class=\"dataframe\">\n",
              "  <thead>\n",
              "    <tr style=\"text-align: right;\">\n",
              "      <th></th>\n",
              "      <th>LSTM MSE</th>\n",
              "      <th>LSTM MAPE</th>\n",
              "      <th>CNN MSE</th>\n",
              "      <th>CNN MAPE</th>\n",
              "      <th>ARIMA MSE</th>\n",
              "      <th>ARIMA MAPE</th>\n",
              "    </tr>\n",
              "  </thead>\n",
              "  <tbody>\n",
              "    <tr>\n",
              "      <th>0</th>\n",
              "      <td>0.004851</td>\n",
              "      <td>5.816786</td>\n",
              "      <td>0.004608</td>\n",
              "      <td>5.083082</td>\n",
              "      <td>0.00506769</td>\n",
              "      <td>4.01437</td>\n",
              "    </tr>\n",
              "    <tr>\n",
              "      <th>1</th>\n",
              "      <td>0.005017</td>\n",
              "      <td>6.490232</td>\n",
              "      <td>0.004645</td>\n",
              "      <td>5.807036</td>\n",
              "      <td></td>\n",
              "      <td></td>\n",
              "    </tr>\n",
              "    <tr>\n",
              "      <th>2</th>\n",
              "      <td>0.004751</td>\n",
              "      <td>5.257930</td>\n",
              "      <td>0.004628</td>\n",
              "      <td>5.555339</td>\n",
              "      <td></td>\n",
              "      <td></td>\n",
              "    </tr>\n",
              "    <tr>\n",
              "      <th>3</th>\n",
              "      <td>0.004876</td>\n",
              "      <td>5.757525</td>\n",
              "      <td>0.004644</td>\n",
              "      <td>5.783344</td>\n",
              "      <td></td>\n",
              "      <td></td>\n",
              "    </tr>\n",
              "    <tr>\n",
              "      <th>4</th>\n",
              "      <td>0.005027</td>\n",
              "      <td>6.477281</td>\n",
              "      <td>0.004707</td>\n",
              "      <td>5.256553</td>\n",
              "      <td></td>\n",
              "      <td></td>\n",
              "    </tr>\n",
              "  </tbody>\n",
              "</table>\n",
              "</div>"
            ],
            "text/plain": [
              "   LSTM MSE  LSTM MAPE   CNN MSE  CNN MAPE   ARIMA MSE ARIMA MAPE\n",
              "0  0.004851   5.816786  0.004608  5.083082  0.00506769    4.01437\n",
              "1  0.005017   6.490232  0.004645  5.807036                       \n",
              "2  0.004751   5.257930  0.004628  5.555339                       \n",
              "3  0.004876   5.757525  0.004644  5.783344                       \n",
              "4  0.005027   6.477281  0.004707  5.256553                       "
            ]
          },
          "metadata": {
            "tags": []
          },
          "execution_count": 400
        }
      ]
    }
  ]
}